{
 "cells": [
  {
   "cell_type": "markdown",
   "metadata": {},
   "source": [
    "<img src='https://encrypted-tbn0.gstatic.com/images?q=tbn%3AANd9GcQ-VfNtOyJbsaxu43Kztf_cv1mgBG6ZIQZEVw&usqp=CAU'>\n",
    "\n",
    "# Procesamiento de Lenguaje Natural\n",
    "\n",
    "## Taller #12: Análisis de sentimiento\n",
    "`Fecha de entrega: Mayo 27, 2021 (Antes del inicio de la próxima clase).`\n",
    "\n",
    "`Modo de entrega: Subir link de GitHub al aula virtual.`"
   ]
  },
  {
   "cell_type": "markdown",
   "metadata": {},
   "source": [
    "###  `[25 pts]` Punto 1: Hacer análisis de sentimiento de los datos del anterior taller\n",
    "- Columna con el puntaje numérico del sentimiento\n",
    "- Pueden usar cualquiera de las librerias vistas en clase"
   ]
  },
  {
   "cell_type": "code",
   "execution_count": 1,
   "metadata": {},
   "outputs": [
    {
     "data": {
      "text/plain": [
       "dict_keys(['api_key', 'api_secret_key', 'access_token', 'access_token_secret', 'bearer_token'])"
      ]
     },
     "execution_count": 1,
     "metadata": {},
     "output_type": "execute_result"
    }
   ],
   "source": [
    "import pandas as pd\n",
    "import tweepy\n",
    "\n",
    "# Leer las llaves\n",
    "keys = pd.read_csv(\"mis_llaves.csv\", sep=';',header=None)\n",
    "keys = dict(zip(keys[0],keys[1]))\n",
    "keys.keys()"
   ]
  },
  {
   "cell_type": "code",
   "execution_count": 2,
   "metadata": {},
   "outputs": [],
   "source": [
    "auth = tweepy.OAuthHandler(keys['api_key'], keys['api_secret_key'])\n",
    "auth.set_access_token(keys['access_token'], keys['access_token_secret'])\n",
    "api = tweepy.API(auth, wait_on_rate_limit=True)\n",
    "tweets = tweepy.Cursor(api.search,\n",
    "                       q=['paro nacional -RT'],\n",
    "                       lang='es',\n",
    "                       geocode=f'4.7110,-74.0721,100km',\n",
    "                       tweet_mode='extended',\n",
    "                       include_rts=False).items(100)"
   ]
  },
  {
   "cell_type": "code",
   "execution_count": 3,
   "metadata": {},
   "outputs": [],
   "source": [
    "t = [tweet for tweet in tweets]\n",
    "t_processed = []\n",
    "\n",
    "for tweet in t:\n",
    "    temp = []\n",
    "    temp.append(tweet.full_text)\n",
    "    temp.append(tweet.created_at)\n",
    "    temp.append(\"Bogotá\")\n",
    "    temp.append(tweet.user.location)\n",
    "    temp.append(tweet.id)\n",
    "    temp.append(f\"https://twitter.com/i/web/status/{tweet.id}\")\n",
    "    \n",
    "    t_processed.append(temp)"
   ]
  },
  {
   "cell_type": "code",
   "execution_count": 4,
   "metadata": {},
   "outputs": [
    {
     "data": {
      "text/html": [
       "<div>\n",
       "<style scoped>\n",
       "    .dataframe tbody tr th:only-of-type {\n",
       "        vertical-align: middle;\n",
       "    }\n",
       "\n",
       "    .dataframe tbody tr th {\n",
       "        vertical-align: top;\n",
       "    }\n",
       "\n",
       "    .dataframe thead th {\n",
       "        text-align: right;\n",
       "    }\n",
       "</style>\n",
       "<table border=\"1\" class=\"dataframe\">\n",
       "  <thead>\n",
       "    <tr style=\"text-align: right;\">\n",
       "      <th></th>\n",
       "      <th>tweet</th>\n",
       "      <th>date</th>\n",
       "      <th>city</th>\n",
       "      <th>user_location</th>\n",
       "      <th>id</th>\n",
       "      <th>link</th>\n",
       "    </tr>\n",
       "  </thead>\n",
       "  <tbody>\n",
       "    <tr>\n",
       "      <th>0</th>\n",
       "      <td>UNEB Bogotá en Puerto Resistencia apoyando a l...</td>\n",
       "      <td>2021-05-27 20:43:50</td>\n",
       "      <td>Bogotá</td>\n",
       "      <td>Bogotá, D.C., Colombia</td>\n",
       "      <td>1398017124229074945</td>\n",
       "      <td>https://twitter.com/i/web/status/1398017124229...</td>\n",
       "    </tr>\n",
       "    <tr>\n",
       "      <th>1</th>\n",
       "      <td>346  Desaparecidos durante Paro Nacional en Co...</td>\n",
       "      <td>2021-05-27 20:42:23</td>\n",
       "      <td>Bogotá</td>\n",
       "      <td>Bogotá</td>\n",
       "      <td>1398016759051997185</td>\n",
       "      <td>https://twitter.com/i/web/status/1398016759051...</td>\n",
       "    </tr>\n",
       "    <tr>\n",
       "      <th>2</th>\n",
       "      <td>#COLOMBIA | Moción de Censura, contra el Minis...</td>\n",
       "      <td>2021-05-27 20:40:45</td>\n",
       "      <td>Bogotá</td>\n",
       "      <td>Pereira-Risaralda-Colombia</td>\n",
       "      <td>1398016344587706372</td>\n",
       "      <td>https://twitter.com/i/web/status/1398016344587...</td>\n",
       "    </tr>\n",
       "    <tr>\n",
       "      <th>3</th>\n",
       "      <td>Liked on YouTube: TAMBALEAN PLANES DESESTABILI...</td>\n",
       "      <td>2021-05-27 20:40:06</td>\n",
       "      <td>Bogotá</td>\n",
       "      <td>Bogota</td>\n",
       "      <td>1398016183132172289</td>\n",
       "      <td>https://twitter.com/i/web/status/1398016183132...</td>\n",
       "    </tr>\n",
       "    <tr>\n",
       "      <th>4</th>\n",
       "      <td>Alimentos continúan presentando variación de p...</td>\n",
       "      <td>2021-05-27 20:40:00</td>\n",
       "      <td>Bogotá</td>\n",
       "      <td>Eje Cafetero</td>\n",
       "      <td>1398016156594737153</td>\n",
       "      <td>https://twitter.com/i/web/status/1398016156594...</td>\n",
       "    </tr>\n",
       "  </tbody>\n",
       "</table>\n",
       "</div>"
      ],
      "text/plain": [
       "                                               tweet                date  \\\n",
       "0  UNEB Bogotá en Puerto Resistencia apoyando a l... 2021-05-27 20:43:50   \n",
       "1  346  Desaparecidos durante Paro Nacional en Co... 2021-05-27 20:42:23   \n",
       "2  #COLOMBIA | Moción de Censura, contra el Minis... 2021-05-27 20:40:45   \n",
       "3  Liked on YouTube: TAMBALEAN PLANES DESESTABILI... 2021-05-27 20:40:06   \n",
       "4  Alimentos continúan presentando variación de p... 2021-05-27 20:40:00   \n",
       "\n",
       "     city               user_location                   id  \\\n",
       "0  Bogotá      Bogotá, D.C., Colombia  1398017124229074945   \n",
       "1  Bogotá                      Bogotá  1398016759051997185   \n",
       "2  Bogotá  Pereira-Risaralda-Colombia  1398016344587706372   \n",
       "3  Bogotá                      Bogota  1398016183132172289   \n",
       "4  Bogotá                Eje Cafetero  1398016156594737153   \n",
       "\n",
       "                                                link  \n",
       "0  https://twitter.com/i/web/status/1398017124229...  \n",
       "1  https://twitter.com/i/web/status/1398016759051...  \n",
       "2  https://twitter.com/i/web/status/1398016344587...  \n",
       "3  https://twitter.com/i/web/status/1398016183132...  \n",
       "4  https://twitter.com/i/web/status/1398016156594...  "
      ]
     },
     "execution_count": 4,
     "metadata": {},
     "output_type": "execute_result"
    }
   ],
   "source": [
    "data = pd.DataFrame(t_processed)\n",
    "data.columns = ['tweet', 'date', 'city', 'user_location', 'id', 'link']\n",
    "data.head()"
   ]
  },
  {
   "cell_type": "code",
   "execution_count": 5,
   "metadata": {},
   "outputs": [],
   "source": [
    "import re\n",
    "\n",
    "pattern1 = '?P<pic>pic.twitter.com/[^\\s]+'\n",
    "pattern2 = '?P<url>https?://[^\\s]+'\n",
    "\n",
    "def text_clean(row):\n",
    "    text = row['tweet']\n",
    "    \n",
    "    links = [tuple(j for j in i if j)[-1] for i in re.findall(f\"({pattern1})|({pattern2})\",text)]\n",
    "    for link in links:\n",
    "        text = text.replace(link,\"\")\n",
    "             \n",
    "    hashtags = [interaction for interaction in text.split() if interaction.startswith(\"#\")]\n",
    "    for hashtag in hashtags:\n",
    "        text = text.replace(hashtag,\"\")\n",
    "        \n",
    "    mentions = [interaction for interaction in text.split() if interaction.startswith(\"@\")]\n",
    "    for mention in mentions:\n",
    "        text = text.replace(mention,\"\")\n",
    "        \n",
    "    return text, links, hashtags, mentions"
   ]
  },
  {
   "cell_type": "code",
   "execution_count": 6,
   "metadata": {},
   "outputs": [
    {
     "data": {
      "text/html": [
       "<div>\n",
       "<style scoped>\n",
       "    .dataframe tbody tr th:only-of-type {\n",
       "        vertical-align: middle;\n",
       "    }\n",
       "\n",
       "    .dataframe tbody tr th {\n",
       "        vertical-align: top;\n",
       "    }\n",
       "\n",
       "    .dataframe thead th {\n",
       "        text-align: right;\n",
       "    }\n",
       "</style>\n",
       "<table border=\"1\" class=\"dataframe\">\n",
       "  <thead>\n",
       "    <tr style=\"text-align: right;\">\n",
       "      <th></th>\n",
       "      <th>tweet</th>\n",
       "      <th>date</th>\n",
       "      <th>city</th>\n",
       "      <th>user_location</th>\n",
       "      <th>id</th>\n",
       "      <th>link</th>\n",
       "      <th>clean</th>\n",
       "      <th>links</th>\n",
       "      <th>hashtags</th>\n",
       "      <th>mentions</th>\n",
       "    </tr>\n",
       "  </thead>\n",
       "  <tbody>\n",
       "    <tr>\n",
       "      <th>0</th>\n",
       "      <td>UNEB Bogotá en Puerto Resistencia apoyando a l...</td>\n",
       "      <td>2021-05-27 20:43:50</td>\n",
       "      <td>Bogotá</td>\n",
       "      <td>Bogotá, D.C., Colombia</td>\n",
       "      <td>1398017124229074945</td>\n",
       "      <td>https://twitter.com/i/web/status/1398017124229...</td>\n",
       "      <td>UNEB Bogotá en Puerto Resistencia apoyando a l...</td>\n",
       "      <td>[https://t.co/XGDlbDv5cJ]</td>\n",
       "      <td>[]</td>\n",
       "      <td>[]</td>\n",
       "    </tr>\n",
       "    <tr>\n",
       "      <th>1</th>\n",
       "      <td>346  Desaparecidos durante Paro Nacional en Co...</td>\n",
       "      <td>2021-05-27 20:42:23</td>\n",
       "      <td>Bogotá</td>\n",
       "      <td>Bogotá</td>\n",
       "      <td>1398016759051997185</td>\n",
       "      <td>https://twitter.com/i/web/status/1398016759051...</td>\n",
       "      <td>346  Desaparecidos durante Paro Nacional en Co...</td>\n",
       "      <td>[https://t.co/doyCwBjV5q]</td>\n",
       "      <td>[]</td>\n",
       "      <td>[@dw_espanol]</td>\n",
       "    </tr>\n",
       "    <tr>\n",
       "      <th>2</th>\n",
       "      <td>#COLOMBIA | Moción de Censura, contra el Minis...</td>\n",
       "      <td>2021-05-27 20:40:45</td>\n",
       "      <td>Bogotá</td>\n",
       "      <td>Pereira-Risaralda-Colombia</td>\n",
       "      <td>1398016344587706372</td>\n",
       "      <td>https://twitter.com/i/web/status/1398016344587...</td>\n",
       "      <td>| Moción de Censura, contra el Ministro de De...</td>\n",
       "      <td>[]</td>\n",
       "      <td>[#COLOMBIA, #Risaralda,]</td>\n",
       "      <td>[@AlejoCorralesCD, @Samy_Merheg,]</td>\n",
       "    </tr>\n",
       "    <tr>\n",
       "      <th>3</th>\n",
       "      <td>Liked on YouTube: TAMBALEAN PLANES DESESTABILI...</td>\n",
       "      <td>2021-05-27 20:40:06</td>\n",
       "      <td>Bogotá</td>\n",
       "      <td>Bogota</td>\n",
       "      <td>1398016183132172289</td>\n",
       "      <td>https://twitter.com/i/web/status/1398016183132...</td>\n",
       "      <td>Liked on YouTube: TAMBALEAN PLANES DESESTABILI...</td>\n",
       "      <td>[https://t.co/DuppV7r0XV, https://t.co/ygXTA6N...</td>\n",
       "      <td>[]</td>\n",
       "      <td>[]</td>\n",
       "    </tr>\n",
       "    <tr>\n",
       "      <th>4</th>\n",
       "      <td>Alimentos continúan presentando variación de p...</td>\n",
       "      <td>2021-05-27 20:40:00</td>\n",
       "      <td>Bogotá</td>\n",
       "      <td>Eje Cafetero</td>\n",
       "      <td>1398016156594737153</td>\n",
       "      <td>https://twitter.com/i/web/status/1398016156594...</td>\n",
       "      <td>Alimentos continúan presentando variación de p...</td>\n",
       "      <td>[https://t.co/W97mCB6ZIW]</td>\n",
       "      <td>[]</td>\n",
       "      <td>[]</td>\n",
       "    </tr>\n",
       "  </tbody>\n",
       "</table>\n",
       "</div>"
      ],
      "text/plain": [
       "                                               tweet                date  \\\n",
       "0  UNEB Bogotá en Puerto Resistencia apoyando a l... 2021-05-27 20:43:50   \n",
       "1  346  Desaparecidos durante Paro Nacional en Co... 2021-05-27 20:42:23   \n",
       "2  #COLOMBIA | Moción de Censura, contra el Minis... 2021-05-27 20:40:45   \n",
       "3  Liked on YouTube: TAMBALEAN PLANES DESESTABILI... 2021-05-27 20:40:06   \n",
       "4  Alimentos continúan presentando variación de p... 2021-05-27 20:40:00   \n",
       "\n",
       "     city               user_location                   id  \\\n",
       "0  Bogotá      Bogotá, D.C., Colombia  1398017124229074945   \n",
       "1  Bogotá                      Bogotá  1398016759051997185   \n",
       "2  Bogotá  Pereira-Risaralda-Colombia  1398016344587706372   \n",
       "3  Bogotá                      Bogota  1398016183132172289   \n",
       "4  Bogotá                Eje Cafetero  1398016156594737153   \n",
       "\n",
       "                                                link  \\\n",
       "0  https://twitter.com/i/web/status/1398017124229...   \n",
       "1  https://twitter.com/i/web/status/1398016759051...   \n",
       "2  https://twitter.com/i/web/status/1398016344587...   \n",
       "3  https://twitter.com/i/web/status/1398016183132...   \n",
       "4  https://twitter.com/i/web/status/1398016156594...   \n",
       "\n",
       "                                               clean  \\\n",
       "0  UNEB Bogotá en Puerto Resistencia apoyando a l...   \n",
       "1  346  Desaparecidos durante Paro Nacional en Co...   \n",
       "2   | Moción de Censura, contra el Ministro de De...   \n",
       "3  Liked on YouTube: TAMBALEAN PLANES DESESTABILI...   \n",
       "4  Alimentos continúan presentando variación de p...   \n",
       "\n",
       "                                               links  \\\n",
       "0                          [https://t.co/XGDlbDv5cJ]   \n",
       "1                          [https://t.co/doyCwBjV5q]   \n",
       "2                                                 []   \n",
       "3  [https://t.co/DuppV7r0XV, https://t.co/ygXTA6N...   \n",
       "4                          [https://t.co/W97mCB6ZIW]   \n",
       "\n",
       "                   hashtags                           mentions  \n",
       "0                        []                                 []  \n",
       "1                        []                      [@dw_espanol]  \n",
       "2  [#COLOMBIA, #Risaralda,]  [@AlejoCorralesCD, @Samy_Merheg,]  \n",
       "3                        []                                 []  \n",
       "4                        []                                 []  "
      ]
     },
     "execution_count": 6,
     "metadata": {},
     "output_type": "execute_result"
    }
   ],
   "source": [
    "data[['clean', 'links', 'hashtags', 'mentions']] = data.apply(text_clean, axis=1, result_type='expand')\n",
    "\n",
    "data.head()"
   ]
  },
  {
   "cell_type": "code",
   "execution_count": 10,
   "metadata": {},
   "outputs": [
    {
     "data": {
      "text/html": [
       "<div>\n",
       "<style scoped>\n",
       "    .dataframe tbody tr th:only-of-type {\n",
       "        vertical-align: middle;\n",
       "    }\n",
       "\n",
       "    .dataframe tbody tr th {\n",
       "        vertical-align: top;\n",
       "    }\n",
       "\n",
       "    .dataframe thead th {\n",
       "        text-align: right;\n",
       "    }\n",
       "</style>\n",
       "<table border=\"1\" class=\"dataframe\">\n",
       "  <thead>\n",
       "    <tr style=\"text-align: right;\">\n",
       "      <th></th>\n",
       "      <th>clean</th>\n",
       "      <th>sent_vader</th>\n",
       "      <th>sent_textblob</th>\n",
       "    </tr>\n",
       "  </thead>\n",
       "  <tbody>\n",
       "    <tr>\n",
       "      <th>0</th>\n",
       "      <td>UNEB Bogotá en Puerto Resistencia apoyando a los Jóvenes, entregando una contribución de almuerzo en solidaridad a la resistencia de los Jóvenes en este paro nacional. UNEB Si VALE LA PENA</td>\n",
       "      <td>0.0000</td>\n",
       "      <td>0.0</td>\n",
       "    </tr>\n",
       "    <tr>\n",
       "      <th>1</th>\n",
       "      <td>346  Desaparecidos durante Paro Nacional en Colombia: las cifras no cuadran porque el Estado no las busca   GRACIAS</td>\n",
       "      <td>-0.5267</td>\n",
       "      <td>0.0</td>\n",
       "    </tr>\n",
       "    <tr>\n",
       "      <th>2</th>\n",
       "      <td>| Moción de Censura, contra el Ministro de Defensa se cayó, porque entre otros, los Senadores de    y   apoyaron la reprensión y se fueron en contra de la manifestación, dicen jóvenes organizadores del paro Nacional.</td>\n",
       "      <td>0.0000</td>\n",
       "      <td>0.0</td>\n",
       "    </tr>\n",
       "    <tr>\n",
       "      <th>3</th>\n",
       "      <td>Liked on YouTube: TAMBALEAN PLANES DESESTABILIZADORES DE PETRO Y DEL COMITÉ NACIONAL DEL PARO</td>\n",
       "      <td>0.4215</td>\n",
       "      <td>0.6</td>\n",
       "    </tr>\n",
       "    <tr>\n",
       "      <th>4</th>\n",
       "      <td>Alimentos continúan presentando variación de precios en medio del paro nacional\\n\\n</td>\n",
       "      <td>0.0000</td>\n",
       "      <td>0.0</td>\n",
       "    </tr>\n",
       "  </tbody>\n",
       "</table>\n",
       "</div>"
      ],
      "text/plain": [
       "                                                                                                                                                                                                                       clean  \\\n",
       "0                              UNEB Bogotá en Puerto Resistencia apoyando a los Jóvenes, entregando una contribución de almuerzo en solidaridad a la resistencia de los Jóvenes en este paro nacional. UNEB Si VALE LA PENA    \n",
       "1                                                                                                       346  Desaparecidos durante Paro Nacional en Colombia: las cifras no cuadran porque el Estado no las busca   GRACIAS    \n",
       "2   | Moción de Censura, contra el Ministro de Defensa se cayó, porque entre otros, los Senadores de    y   apoyaron la reprensión y se fueron en contra de la manifestación, dicen jóvenes organizadores del paro Nacional.   \n",
       "3                                                                                                                            Liked on YouTube: TAMBALEAN PLANES DESESTABILIZADORES DE PETRO Y DEL COMITÉ NACIONAL DEL PARO     \n",
       "4                                                                                                                                        Alimentos continúan presentando variación de precios en medio del paro nacional\\n\\n   \n",
       "\n",
       "   sent_vader  sent_textblob  \n",
       "0      0.0000            0.0  \n",
       "1     -0.5267            0.0  \n",
       "2      0.0000            0.0  \n",
       "3      0.4215            0.6  \n",
       "4      0.0000            0.0  "
      ]
     },
     "execution_count": 10,
     "metadata": {},
     "output_type": "execute_result"
    }
   ],
   "source": [
    "from textblob import TextBlob\n",
    "from vaderSentiment.vaderSentiment import SentimentIntensityAnalyzer\n",
    "pd.set_option('display.max_colwidth', None)\n",
    "\n",
    "data['sent_vader'] = data['clean'].apply(lambda val: vader.polarity_scores(val)['compound'])\n",
    "data['sent_textblob'] = data['clean'].apply(lambda val: TextBlob(val).sentiment.polarity)\n",
    "data[['clean', 'sent_vader', 'sent_textblob']].head()"
   ]
  },
  {
   "cell_type": "markdown",
   "metadata": {},
   "source": [
    "###  `[10 pts]` Punto 2: ¿Cuál es el tuit más positivo y más negativo?"
   ]
  },
  {
   "cell_type": "code",
   "execution_count": 13,
   "metadata": {},
   "outputs": [
    {
     "data": {
      "text/html": [
       "<div>\n",
       "<style scoped>\n",
       "    .dataframe tbody tr th:only-of-type {\n",
       "        vertical-align: middle;\n",
       "    }\n",
       "\n",
       "    .dataframe tbody tr th {\n",
       "        vertical-align: top;\n",
       "    }\n",
       "\n",
       "    .dataframe thead th {\n",
       "        text-align: right;\n",
       "    }\n",
       "</style>\n",
       "<table border=\"1\" class=\"dataframe\">\n",
       "  <thead>\n",
       "    <tr style=\"text-align: right;\">\n",
       "      <th></th>\n",
       "      <th>clean</th>\n",
       "      <th>sent_vader</th>\n",
       "    </tr>\n",
       "  </thead>\n",
       "  <tbody>\n",
       "    <tr>\n",
       "      <th>71</th>\n",
       "      <td>Que viva el paro nacional sin vandalismo y sin que se maten. en Colombia</td>\n",
       "      <td>-0.8020</td>\n",
       "    </tr>\n",
       "    <tr>\n",
       "      <th>74</th>\n",
       "      <td>Atentos,estos son los cómplices de asesinato de jóvenes durante el paro nacional, que le dieron aval al criminal  seguir destrozando al país y llenar de terror y miedo a los colombianos,!difundir por favor!!\\n \\n</td>\n",
       "      <td>-0.7163</td>\n",
       "    </tr>\n",
       "    <tr>\n",
       "      <th>88</th>\n",
       "      <td>No podemos reducir el paro al vandalismo. Debemos rechazar violaciones de DDHH y bloqueos, pero el paro es mucho más Es el estallido social de una juventud frustrada y sin futuro y la oportunidad para dialogar y construir un mejor país. Equivocado titular</td>\n",
       "      <td>-0.7003</td>\n",
       "    </tr>\n",
       "    <tr>\n",
       "      <th>69</th>\n",
       "      <td>Si sachi es buenísimo y si lo traen excelente, pero no por la hinchada, le recuerdo que antes que la hinchada empezará a joder con el no fútbol y si al paro nacional 2 partidos 4 puntos, después el siguiente partido no lo dejaron jugar de local y 4 partidos 1 punto</td>\n",
       "      <td>-0.6808</td>\n",
       "    </tr>\n",
       "    <tr>\n",
       "      <th>67</th>\n",
       "      <td>| Bogotá vivió ayer una de las jornadas con menor participación ciudadana desde que el 28 de abril empezó el paro nacional. \\n\\nSin embargo, al caer la noche se vivieron horas de disturbios en Kennedy y Usme.</td>\n",
       "      <td>-0.5574</td>\n",
       "    </tr>\n",
       "  </tbody>\n",
       "</table>\n",
       "</div>"
      ],
      "text/plain": [
       "                                                                                                                                                                                                                                                                            clean  \\\n",
       "71                                                                                                                                                                                                      Que viva el paro nacional sin vandalismo y sin que se maten. en Colombia    \n",
       "74                                                          Atentos,estos son los cómplices de asesinato de jóvenes durante el paro nacional, que le dieron aval al criminal  seguir destrozando al país y llenar de terror y miedo a los colombianos,!difundir por favor!!\\n \\n    \n",
       "88              No podemos reducir el paro al vandalismo. Debemos rechazar violaciones de DDHH y bloqueos, pero el paro es mucho más Es el estallido social de una juventud frustrada y sin futuro y la oportunidad para dialogar y construir un mejor país. Equivocado titular     \n",
       "69      Si sachi es buenísimo y si lo traen excelente, pero no por la hinchada, le recuerdo que antes que la hinchada empezará a joder con el no fútbol y si al paro nacional 2 partidos 4 puntos, después el siguiente partido no lo dejaron jugar de local y 4 partidos 1 punto   \n",
       "67                                                              | Bogotá vivió ayer una de las jornadas con menor participación ciudadana desde que el 28 de abril empezó el paro nacional. \\n\\nSin embargo, al caer la noche se vivieron horas de disturbios en Kennedy y Usme.    \n",
       "\n",
       "    sent_vader  \n",
       "71     -0.8020  \n",
       "74     -0.7163  \n",
       "88     -0.7003  \n",
       "69     -0.6808  \n",
       "67     -0.5574  "
      ]
     },
     "execution_count": 13,
     "metadata": {},
     "output_type": "execute_result"
    }
   ],
   "source": [
    "data[['clean', 'sent_vader' ]].sort_values('sent_vader').head()"
   ]
  },
  {
   "cell_type": "code",
   "execution_count": 14,
   "metadata": {},
   "outputs": [
    {
     "data": {
      "text/html": [
       "<div>\n",
       "<style scoped>\n",
       "    .dataframe tbody tr th:only-of-type {\n",
       "        vertical-align: middle;\n",
       "    }\n",
       "\n",
       "    .dataframe tbody tr th {\n",
       "        vertical-align: top;\n",
       "    }\n",
       "\n",
       "    .dataframe thead th {\n",
       "        text-align: right;\n",
       "    }\n",
       "</style>\n",
       "<table border=\"1\" class=\"dataframe\">\n",
       "  <thead>\n",
       "    <tr style=\"text-align: right;\">\n",
       "      <th></th>\n",
       "      <th>clean</th>\n",
       "      <th>sent_vader</th>\n",
       "    </tr>\n",
       "  </thead>\n",
       "  <tbody>\n",
       "    <tr>\n",
       "      <th>18</th>\n",
       "      <td>Liked on YouTube: TAMBALEAN PLANES DESESTABILIZADORES DE PETRO Y DEL COMITÉ NACIONAL DEL PARO</td>\n",
       "      <td>0.4215</td>\n",
       "    </tr>\n",
       "    <tr>\n",
       "      <th>3</th>\n",
       "      <td>Liked on YouTube: TAMBALEAN PLANES DESESTABILIZADORES DE PETRO Y DEL COMITÉ NACIONAL DEL PARO</td>\n",
       "      <td>0.4215</td>\n",
       "    </tr>\n",
       "    <tr>\n",
       "      <th>12</th>\n",
       "      <td>En la coalición de la \"esperanza\" esta  cuyos amigotes son los líderes del Comité Nacional del Paro, realmente quieren que haya diálogo y desbloqueos? Nada más peligroso que los políticos que venden odio disfrazado de amor.</td>\n",
       "      <td>0.6124</td>\n",
       "    </tr>\n",
       "    <tr>\n",
       "      <th>31</th>\n",
       "      <td>Bogotá.  \\nPedir un capuchino y que lo sirvan así, (VPN). VIVA PARO NACIONAL, no tiene precio. 😘😘😘\\n\\n \\n ✨👊🏼💛</td>\n",
       "      <td>0.9136</td>\n",
       "    </tr>\n",
       "    <tr>\n",
       "      <th>83</th>\n",
       "      <td>INVITADOS TODOS A EL PRIMER MES DEL PARO NACIONAL❤️💙💛💛</td>\n",
       "      <td>0.9274</td>\n",
       "    </tr>\n",
       "  </tbody>\n",
       "</table>\n",
       "</div>"
      ],
      "text/plain": [
       "                                                                                                                                                                                                                              clean  \\\n",
       "18                                                                                                                                   Liked on YouTube: TAMBALEAN PLANES DESESTABILIZADORES DE PETRO Y DEL COMITÉ NACIONAL DEL PARO    \n",
       "3                                                                                                                                   Liked on YouTube: TAMBALEAN PLANES DESESTABILIZADORES DE PETRO Y DEL COMITÉ NACIONAL DEL PARO     \n",
       "12  En la coalición de la \"esperanza\" esta  cuyos amigotes son los líderes del Comité Nacional del Paro, realmente quieren que haya diálogo y desbloqueos? Nada más peligroso que los políticos que venden odio disfrazado de amor.   \n",
       "31                                                                                                                  Bogotá.  \\nPedir un capuchino y que lo sirvan así, (VPN). VIVA PARO NACIONAL, no tiene precio. 😘😘😘\\n\\n \\n ✨👊🏼💛    \n",
       "83                                                                                                                                                                          INVITADOS TODOS A EL PRIMER MES DEL PARO NACIONAL❤️💙💛💛    \n",
       "\n",
       "    sent_vader  \n",
       "18      0.4215  \n",
       "3       0.4215  \n",
       "12      0.6124  \n",
       "31      0.9136  \n",
       "83      0.9274  "
      ]
     },
     "execution_count": 14,
     "metadata": {},
     "output_type": "execute_result"
    }
   ],
   "source": [
    "data[['clean', 'sent_vader' ]].sort_values('sent_vader').tail()"
   ]
  },
  {
   "cell_type": "code",
   "execution_count": 15,
   "metadata": {},
   "outputs": [
    {
     "data": {
      "text/html": [
       "<div>\n",
       "<style scoped>\n",
       "    .dataframe tbody tr th:only-of-type {\n",
       "        vertical-align: middle;\n",
       "    }\n",
       "\n",
       "    .dataframe tbody tr th {\n",
       "        vertical-align: top;\n",
       "    }\n",
       "\n",
       "    .dataframe thead th {\n",
       "        text-align: right;\n",
       "    }\n",
       "</style>\n",
       "<table border=\"1\" class=\"dataframe\">\n",
       "  <thead>\n",
       "    <tr style=\"text-align: right;\">\n",
       "      <th></th>\n",
       "      <th>clean</th>\n",
       "      <th>sent_textblob</th>\n",
       "    </tr>\n",
       "  </thead>\n",
       "  <tbody>\n",
       "    <tr>\n",
       "      <th>74</th>\n",
       "      <td>Atentos,estos son los cómplices de asesinato de jóvenes durante el paro nacional, que le dieron aval al criminal  seguir destrozando al país y llenar de terror y miedo a los colombianos,!difundir por favor!!\\n \\n</td>\n",
       "      <td>-0.625</td>\n",
       "    </tr>\n",
       "    <tr>\n",
       "      <th>5</th>\n",
       "      <td>El pueblo debe comprender que Banda Criminal comité de paro solamente están representando sus sindicatos es decir menos de 0.5% de la población nacional y al sujeto Francisco Maltés y sus compinches poco o nada les importa otros gremios ellos van por lo suyo, así que a trabajar.</td>\n",
       "      <td>-0.400</td>\n",
       "    </tr>\n",
       "    <tr>\n",
       "      <th>0</th>\n",
       "      <td>UNEB Bogotá en Puerto Resistencia apoyando a los Jóvenes, entregando una contribución de almuerzo en solidaridad a la resistencia de los Jóvenes en este paro nacional. UNEB Si VALE LA PENA</td>\n",
       "      <td>0.000</td>\n",
       "    </tr>\n",
       "    <tr>\n",
       "      <th>70</th>\n",
       "      <td>No se juega VIVA EL PARO NACIONAL</td>\n",
       "      <td>0.000</td>\n",
       "    </tr>\n",
       "    <tr>\n",
       "      <th>69</th>\n",
       "      <td>Si sachi es buenísimo y si lo traen excelente, pero no por la hinchada, le recuerdo que antes que la hinchada empezará a joder con el no fútbol y si al paro nacional 2 partidos 4 puntos, después el siguiente partido no lo dejaron jugar de local y 4 partidos 1 punto</td>\n",
       "      <td>0.000</td>\n",
       "    </tr>\n",
       "  </tbody>\n",
       "</table>\n",
       "</div>"
      ],
      "text/plain": [
       "                                                                                                                                                                                                                                                                                        clean  \\\n",
       "74                                                                      Atentos,estos son los cómplices de asesinato de jóvenes durante el paro nacional, que le dieron aval al criminal  seguir destrozando al país y llenar de terror y miedo a los colombianos,!difundir por favor!!\\n \\n    \n",
       "5     El pueblo debe comprender que Banda Criminal comité de paro solamente están representando sus sindicatos es decir menos de 0.5% de la población nacional y al sujeto Francisco Maltés y sus compinches poco o nada les importa otros gremios ellos van por lo suyo, así que a trabajar.   \n",
       "0                                                                                               UNEB Bogotá en Puerto Resistencia apoyando a los Jóvenes, entregando una contribución de almuerzo en solidaridad a la resistencia de los Jóvenes en este paro nacional. UNEB Si VALE LA PENA    \n",
       "70                                                                                                                                                                                                                                                          No se juega VIVA EL PARO NACIONAL   \n",
       "69                  Si sachi es buenísimo y si lo traen excelente, pero no por la hinchada, le recuerdo que antes que la hinchada empezará a joder con el no fútbol y si al paro nacional 2 partidos 4 puntos, después el siguiente partido no lo dejaron jugar de local y 4 partidos 1 punto   \n",
       "\n",
       "    sent_textblob  \n",
       "74         -0.625  \n",
       "5          -0.400  \n",
       "0           0.000  \n",
       "70          0.000  \n",
       "69          0.000  "
      ]
     },
     "execution_count": 15,
     "metadata": {},
     "output_type": "execute_result"
    }
   ],
   "source": [
    "data[['clean', 'sent_textblob' ]].sort_values('sent_textblob').head()"
   ]
  },
  {
   "cell_type": "code",
   "execution_count": 16,
   "metadata": {},
   "outputs": [
    {
     "data": {
      "text/html": [
       "<div>\n",
       "<style scoped>\n",
       "    .dataframe tbody tr th:only-of-type {\n",
       "        vertical-align: middle;\n",
       "    }\n",
       "\n",
       "    .dataframe tbody tr th {\n",
       "        vertical-align: top;\n",
       "    }\n",
       "\n",
       "    .dataframe thead th {\n",
       "        text-align: right;\n",
       "    }\n",
       "</style>\n",
       "<table border=\"1\" class=\"dataframe\">\n",
       "  <thead>\n",
       "    <tr style=\"text-align: right;\">\n",
       "      <th></th>\n",
       "      <th>clean</th>\n",
       "      <th>sent_textblob</th>\n",
       "    </tr>\n",
       "  </thead>\n",
       "  <tbody>\n",
       "    <tr>\n",
       "      <th>88</th>\n",
       "      <td>No podemos reducir el paro al vandalismo. Debemos rechazar violaciones de DDHH y bloqueos, pero el paro es mucho más Es el estallido social de una juventud frustrada y sin futuro y la oportunidad para dialogar y construir un mejor país. Equivocado titular</td>\n",
       "      <td>0.066667</td>\n",
       "    </tr>\n",
       "    <tr>\n",
       "      <th>91</th>\n",
       "      <td>Hoy en dramas de  nos quedamos sin bocadillo veleño. \\nNi de chiste se les ocurre un titular tipo: la policía asesinó a un civil en Usme durante la jornada de ayer del Paro Nacional.</td>\n",
       "      <td>0.100000</td>\n",
       "    </tr>\n",
       "    <tr>\n",
       "      <th>13</th>\n",
       "      <td>Llevamos varias semanas en las que medios de comunicación, y organizaciones sociales y estatales han denunciado más de 20 casos de violencia sexual en el marco del Paro Nacional 2021. (Abrir hilo para ver todas las imágenes)</td>\n",
       "      <td>0.500000</td>\n",
       "    </tr>\n",
       "    <tr>\n",
       "      <th>18</th>\n",
       "      <td>Liked on YouTube: TAMBALEAN PLANES DESESTABILIZADORES DE PETRO Y DEL COMITÉ NACIONAL DEL PARO</td>\n",
       "      <td>0.600000</td>\n",
       "    </tr>\n",
       "    <tr>\n",
       "      <th>3</th>\n",
       "      <td>Liked on YouTube: TAMBALEAN PLANES DESESTABILIZADORES DE PETRO Y DEL COMITÉ NACIONAL DEL PARO</td>\n",
       "      <td>0.600000</td>\n",
       "    </tr>\n",
       "  </tbody>\n",
       "</table>\n",
       "</div>"
      ],
      "text/plain": [
       "                                                                                                                                                                                                                                                                clean  \\\n",
       "88  No podemos reducir el paro al vandalismo. Debemos rechazar violaciones de DDHH y bloqueos, pero el paro es mucho más Es el estallido social de una juventud frustrada y sin futuro y la oportunidad para dialogar y construir un mejor país. Equivocado titular     \n",
       "91                                                                             Hoy en dramas de  nos quedamos sin bocadillo veleño. \\nNi de chiste se les ocurre un titular tipo: la policía asesinó a un civil en Usme durante la jornada de ayer del Paro Nacional.   \n",
       "13                                  Llevamos varias semanas en las que medios de comunicación, y organizaciones sociales y estatales han denunciado más de 20 casos de violencia sexual en el marco del Paro Nacional 2021. (Abrir hilo para ver todas las imágenes)    \n",
       "18                                                                                                                                                                     Liked on YouTube: TAMBALEAN PLANES DESESTABILIZADORES DE PETRO Y DEL COMITÉ NACIONAL DEL PARO    \n",
       "3                                                                                                                                                                     Liked on YouTube: TAMBALEAN PLANES DESESTABILIZADORES DE PETRO Y DEL COMITÉ NACIONAL DEL PARO     \n",
       "\n",
       "    sent_textblob  \n",
       "88       0.066667  \n",
       "91       0.100000  \n",
       "13       0.500000  \n",
       "18       0.600000  \n",
       "3        0.600000  "
      ]
     },
     "execution_count": 16,
     "metadata": {},
     "output_type": "execute_result"
    }
   ],
   "source": [
    "data[['clean', 'sent_textblob' ]].sort_values('sent_textblob').tail()"
   ]
  },
  {
   "cell_type": "markdown",
   "metadata": {},
   "source": [
    "###  `[10 pts]` Punto 3: ¿Cuántos tuits positivos/negativos hay en sus datos?"
   ]
  },
  {
   "cell_type": "code",
   "execution_count": 18,
   "metadata": {},
   "outputs": [
    {
     "data": {
      "text/plain": [
       "9"
      ]
     },
     "execution_count": 18,
     "metadata": {},
     "output_type": "execute_result"
    }
   ],
   "source": [
    "positivos_vader = data[data['sent_vader'] > 0]\n",
    "len(positivos_vader)"
   ]
  },
  {
   "cell_type": "code",
   "execution_count": 19,
   "metadata": {},
   "outputs": [
    {
     "data": {
      "text/plain": [
       "19"
      ]
     },
     "execution_count": 19,
     "metadata": {},
     "output_type": "execute_result"
    }
   ],
   "source": [
    "negativos_vader = data[data['sent_vader'] < 0]\n",
    "len(negativos_vader)"
   ]
  },
  {
   "cell_type": "code",
   "execution_count": 20,
   "metadata": {},
   "outputs": [
    {
     "data": {
      "text/plain": [
       "72"
      ]
     },
     "execution_count": 20,
     "metadata": {},
     "output_type": "execute_result"
    }
   ],
   "source": [
    "neutros_vader = data[data['sent_vader'] == 0]\n",
    "len(neutros_vader)"
   ]
  },
  {
   "cell_type": "code",
   "execution_count": 23,
   "metadata": {},
   "outputs": [
    {
     "data": {
      "text/plain": [
       "6"
      ]
     },
     "execution_count": 23,
     "metadata": {},
     "output_type": "execute_result"
    }
   ],
   "source": [
    "positivos_textblob = data[data['sent_textblob'] > 0]\n",
    "len(positivos_textblob)"
   ]
  },
  {
   "cell_type": "code",
   "execution_count": 25,
   "metadata": {},
   "outputs": [
    {
     "data": {
      "text/plain": [
       "2"
      ]
     },
     "execution_count": 25,
     "metadata": {},
     "output_type": "execute_result"
    }
   ],
   "source": [
    "negativos_textblob = data[data['sent_textblob'] < 0]\n",
    "len(negativos_textblob)"
   ]
  },
  {
   "cell_type": "code",
   "execution_count": 27,
   "metadata": {},
   "outputs": [
    {
     "data": {
      "text/plain": [
       "92"
      ]
     },
     "execution_count": 27,
     "metadata": {},
     "output_type": "execute_result"
    }
   ],
   "source": [
    "neutros_textblob = data[data['sent_textblob'] == 0]\n",
    "len(neutros_textblob)"
   ]
  },
  {
   "cell_type": "markdown",
   "metadata": {},
   "source": [
    "###  `[5 pts]` : Punto 4: Una visualización sobre sus datos"
   ]
  },
  {
   "cell_type": "code",
   "execution_count": 28,
   "metadata": {},
   "outputs": [
    {
     "data": {
      "text/html": [
       "        <script type=\"text/javascript\">\n",
       "        window.PlotlyConfig = {MathJaxConfig: 'local'};\n",
       "        if (window.MathJax) {MathJax.Hub.Config({SVG: {font: \"STIX-Web\"}});}\n",
       "        if (typeof require !== 'undefined') {\n",
       "        require.undef(\"plotly\");\n",
       "        requirejs.config({\n",
       "            paths: {\n",
       "                'plotly': ['https://cdn.plot.ly/plotly-latest.min']\n",
       "            }\n",
       "        });\n",
       "        require(['plotly'], function(Plotly) {\n",
       "            window._Plotly = Plotly;\n",
       "        });\n",
       "        }\n",
       "        </script>\n",
       "        "
      ]
     },
     "metadata": {},
     "output_type": "display_data"
    },
    {
     "data": {
      "application/vnd.plotly.v1+json": {
       "config": {
        "linkText": "Export to plot.ly",
        "plotlyServerURL": "https://plot.ly",
        "showLink": false
       },
       "data": [
        {
         "hoverinfo": "text",
         "line": {
          "color": "#1DA1F2"
         },
         "mode": "lines+markers",
         "name": "Días",
         "text": [
          "Fecha: 17:37:00<br>Tuits: 1",
          "Fecha: 17:39:00<br>Tuits: 1",
          "Fecha: 17:40:00<br>Tuits: 1",
          "Fecha: 17:41:00<br>Tuits: 1",
          "Fecha: 17:43:00<br>Tuits: 1",
          "Fecha: 17:45:00<br>Tuits: 1",
          "Fecha: 17:46:00<br>Tuits: 1",
          "Fecha: 17:47:00<br>Tuits: 1",
          "Fecha: 17:53:00<br>Tuits: 1",
          "Fecha: 17:55:00<br>Tuits: 1",
          "Fecha: 17:57:00<br>Tuits: 1",
          "Fecha: 17:59:00<br>Tuits: 1",
          "Fecha: 18:01:00<br>Tuits: 1",
          "Fecha: 18:03:00<br>Tuits: 1",
          "Fecha: 18:05:00<br>Tuits: 2",
          "Fecha: 18:06:00<br>Tuits: 2",
          "Fecha: 18:10:00<br>Tuits: 1",
          "Fecha: 18:11:00<br>Tuits: 1",
          "Fecha: 18:12:00<br>Tuits: 1",
          "Fecha: 18:14:00<br>Tuits: 1",
          "Fecha: 18:16:00<br>Tuits: 1",
          "Fecha: 18:18:00<br>Tuits: 1",
          "Fecha: 18:20:00<br>Tuits: 3",
          "Fecha: 18:24:00<br>Tuits: 2",
          "Fecha: 18:26:00<br>Tuits: 1",
          "Fecha: 18:27:00<br>Tuits: 1",
          "Fecha: 18:30:00<br>Tuits: 2",
          "Fecha: 18:32:00<br>Tuits: 1",
          "Fecha: 18:33:00<br>Tuits: 1",
          "Fecha: 18:36:00<br>Tuits: 1",
          "Fecha: 18:40:00<br>Tuits: 3",
          "Fecha: 18:41:00<br>Tuits: 1",
          "Fecha: 18:47:00<br>Tuits: 1",
          "Fecha: 18:49:00<br>Tuits: 1",
          "Fecha: 18:51:00<br>Tuits: 1",
          "Fecha: 18:53:00<br>Tuits: 1",
          "Fecha: 18:54:00<br>Tuits: 1",
          "Fecha: 18:57:00<br>Tuits: 1",
          "Fecha: 19:01:00<br>Tuits: 1",
          "Fecha: 19:06:00<br>Tuits: 1",
          "Fecha: 19:10:00<br>Tuits: 1",
          "Fecha: 19:11:00<br>Tuits: 1",
          "Fecha: 19:12:00<br>Tuits: 1",
          "Fecha: 19:17:00<br>Tuits: 1",
          "Fecha: 19:20:00<br>Tuits: 1",
          "Fecha: 19:23:00<br>Tuits: 1",
          "Fecha: 19:25:00<br>Tuits: 1",
          "Fecha: 19:27:00<br>Tuits: 2",
          "Fecha: 19:33:00<br>Tuits: 1",
          "Fecha: 19:36:00<br>Tuits: 2",
          "Fecha: 19:39:00<br>Tuits: 1",
          "Fecha: 19:40:00<br>Tuits: 1",
          "Fecha: 19:41:00<br>Tuits: 1",
          "Fecha: 19:45:00<br>Tuits: 1",
          "Fecha: 19:47:00<br>Tuits: 1",
          "Fecha: 19:49:00<br>Tuits: 1",
          "Fecha: 19:52:00<br>Tuits: 1",
          "Fecha: 19:53:00<br>Tuits: 1",
          "Fecha: 19:54:00<br>Tuits: 2",
          "Fecha: 19:55:00<br>Tuits: 1",
          "Fecha: 19:56:00<br>Tuits: 1",
          "Fecha: 19:57:00<br>Tuits: 1",
          "Fecha: 19:59:00<br>Tuits: 2",
          "Fecha: 20:03:00<br>Tuits: 1",
          "Fecha: 20:04:00<br>Tuits: 1",
          "Fecha: 20:05:00<br>Tuits: 2",
          "Fecha: 20:06:00<br>Tuits: 1",
          "Fecha: 20:08:00<br>Tuits: 1",
          "Fecha: 20:10:00<br>Tuits: 1",
          "Fecha: 20:12:00<br>Tuits: 1",
          "Fecha: 20:15:00<br>Tuits: 2",
          "Fecha: 20:17:00<br>Tuits: 2",
          "Fecha: 20:20:00<br>Tuits: 1",
          "Fecha: 20:25:00<br>Tuits: 1",
          "Fecha: 20:26:00<br>Tuits: 2",
          "Fecha: 20:35:00<br>Tuits: 2",
          "Fecha: 20:38:00<br>Tuits: 1",
          "Fecha: 20:39:00<br>Tuits: 1",
          "Fecha: 20:40:00<br>Tuits: 3",
          "Fecha: 20:42:00<br>Tuits: 1",
          "Fecha: 20:43:00<br>Tuits: 1"
         ],
         "type": "scatter",
         "x": [
          "17:37:00",
          "17:39:00",
          "17:40:00",
          "17:41:00",
          "17:43:00",
          "17:45:00",
          "17:46:00",
          "17:47:00",
          "17:53:00",
          "17:55:00",
          "17:57:00",
          "17:59:00",
          "18:01:00",
          "18:03:00",
          "18:05:00",
          "18:06:00",
          "18:10:00",
          "18:11:00",
          "18:12:00",
          "18:14:00",
          "18:16:00",
          "18:18:00",
          "18:20:00",
          "18:24:00",
          "18:26:00",
          "18:27:00",
          "18:30:00",
          "18:32:00",
          "18:33:00",
          "18:36:00",
          "18:40:00",
          "18:41:00",
          "18:47:00",
          "18:49:00",
          "18:51:00",
          "18:53:00",
          "18:54:00",
          "18:57:00",
          "19:01:00",
          "19:06:00",
          "19:10:00",
          "19:11:00",
          "19:12:00",
          "19:17:00",
          "19:20:00",
          "19:23:00",
          "19:25:00",
          "19:27:00",
          "19:33:00",
          "19:36:00",
          "19:39:00",
          "19:40:00",
          "19:41:00",
          "19:45:00",
          "19:47:00",
          "19:49:00",
          "19:52:00",
          "19:53:00",
          "19:54:00",
          "19:55:00",
          "19:56:00",
          "19:57:00",
          "19:59:00",
          "20:03:00",
          "20:04:00",
          "20:05:00",
          "20:06:00",
          "20:08:00",
          "20:10:00",
          "20:12:00",
          "20:15:00",
          "20:17:00",
          "20:20:00",
          "20:25:00",
          "20:26:00",
          "20:35:00",
          "20:38:00",
          "20:39:00",
          "20:40:00",
          "20:42:00",
          "20:43:00"
         ],
         "y": [
          1,
          1,
          1,
          1,
          1,
          1,
          1,
          1,
          1,
          1,
          1,
          1,
          1,
          1,
          2,
          2,
          1,
          1,
          1,
          1,
          1,
          1,
          3,
          2,
          1,
          1,
          2,
          1,
          1,
          1,
          3,
          1,
          1,
          1,
          1,
          1,
          1,
          1,
          1,
          1,
          1,
          1,
          1,
          1,
          1,
          1,
          1,
          2,
          1,
          2,
          1,
          1,
          1,
          1,
          1,
          1,
          1,
          1,
          2,
          1,
          1,
          1,
          2,
          1,
          1,
          2,
          1,
          1,
          1,
          1,
          2,
          2,
          1,
          1,
          2,
          2,
          1,
          1,
          3,
          1,
          1
         ]
        }
       ],
       "layout": {
        "template": {
         "data": {
          "bar": [
           {
            "error_x": {
             "color": "#2a3f5f"
            },
            "error_y": {
             "color": "#2a3f5f"
            },
            "marker": {
             "line": {
              "color": "#E5ECF6",
              "width": 0.5
             }
            },
            "type": "bar"
           }
          ],
          "barpolar": [
           {
            "marker": {
             "line": {
              "color": "#E5ECF6",
              "width": 0.5
             }
            },
            "type": "barpolar"
           }
          ],
          "carpet": [
           {
            "aaxis": {
             "endlinecolor": "#2a3f5f",
             "gridcolor": "white",
             "linecolor": "white",
             "minorgridcolor": "white",
             "startlinecolor": "#2a3f5f"
            },
            "baxis": {
             "endlinecolor": "#2a3f5f",
             "gridcolor": "white",
             "linecolor": "white",
             "minorgridcolor": "white",
             "startlinecolor": "#2a3f5f"
            },
            "type": "carpet"
           }
          ],
          "choropleth": [
           {
            "colorbar": {
             "outlinewidth": 0,
             "ticks": ""
            },
            "type": "choropleth"
           }
          ],
          "contour": [
           {
            "colorbar": {
             "outlinewidth": 0,
             "ticks": ""
            },
            "colorscale": [
             [
              0,
              "#0d0887"
             ],
             [
              0.1111111111111111,
              "#46039f"
             ],
             [
              0.2222222222222222,
              "#7201a8"
             ],
             [
              0.3333333333333333,
              "#9c179e"
             ],
             [
              0.4444444444444444,
              "#bd3786"
             ],
             [
              0.5555555555555556,
              "#d8576b"
             ],
             [
              0.6666666666666666,
              "#ed7953"
             ],
             [
              0.7777777777777778,
              "#fb9f3a"
             ],
             [
              0.8888888888888888,
              "#fdca26"
             ],
             [
              1,
              "#f0f921"
             ]
            ],
            "type": "contour"
           }
          ],
          "contourcarpet": [
           {
            "colorbar": {
             "outlinewidth": 0,
             "ticks": ""
            },
            "type": "contourcarpet"
           }
          ],
          "heatmap": [
           {
            "colorbar": {
             "outlinewidth": 0,
             "ticks": ""
            },
            "colorscale": [
             [
              0,
              "#0d0887"
             ],
             [
              0.1111111111111111,
              "#46039f"
             ],
             [
              0.2222222222222222,
              "#7201a8"
             ],
             [
              0.3333333333333333,
              "#9c179e"
             ],
             [
              0.4444444444444444,
              "#bd3786"
             ],
             [
              0.5555555555555556,
              "#d8576b"
             ],
             [
              0.6666666666666666,
              "#ed7953"
             ],
             [
              0.7777777777777778,
              "#fb9f3a"
             ],
             [
              0.8888888888888888,
              "#fdca26"
             ],
             [
              1,
              "#f0f921"
             ]
            ],
            "type": "heatmap"
           }
          ],
          "heatmapgl": [
           {
            "colorbar": {
             "outlinewidth": 0,
             "ticks": ""
            },
            "colorscale": [
             [
              0,
              "#0d0887"
             ],
             [
              0.1111111111111111,
              "#46039f"
             ],
             [
              0.2222222222222222,
              "#7201a8"
             ],
             [
              0.3333333333333333,
              "#9c179e"
             ],
             [
              0.4444444444444444,
              "#bd3786"
             ],
             [
              0.5555555555555556,
              "#d8576b"
             ],
             [
              0.6666666666666666,
              "#ed7953"
             ],
             [
              0.7777777777777778,
              "#fb9f3a"
             ],
             [
              0.8888888888888888,
              "#fdca26"
             ],
             [
              1,
              "#f0f921"
             ]
            ],
            "type": "heatmapgl"
           }
          ],
          "histogram": [
           {
            "marker": {
             "colorbar": {
              "outlinewidth": 0,
              "ticks": ""
             }
            },
            "type": "histogram"
           }
          ],
          "histogram2d": [
           {
            "colorbar": {
             "outlinewidth": 0,
             "ticks": ""
            },
            "colorscale": [
             [
              0,
              "#0d0887"
             ],
             [
              0.1111111111111111,
              "#46039f"
             ],
             [
              0.2222222222222222,
              "#7201a8"
             ],
             [
              0.3333333333333333,
              "#9c179e"
             ],
             [
              0.4444444444444444,
              "#bd3786"
             ],
             [
              0.5555555555555556,
              "#d8576b"
             ],
             [
              0.6666666666666666,
              "#ed7953"
             ],
             [
              0.7777777777777778,
              "#fb9f3a"
             ],
             [
              0.8888888888888888,
              "#fdca26"
             ],
             [
              1,
              "#f0f921"
             ]
            ],
            "type": "histogram2d"
           }
          ],
          "histogram2dcontour": [
           {
            "colorbar": {
             "outlinewidth": 0,
             "ticks": ""
            },
            "colorscale": [
             [
              0,
              "#0d0887"
             ],
             [
              0.1111111111111111,
              "#46039f"
             ],
             [
              0.2222222222222222,
              "#7201a8"
             ],
             [
              0.3333333333333333,
              "#9c179e"
             ],
             [
              0.4444444444444444,
              "#bd3786"
             ],
             [
              0.5555555555555556,
              "#d8576b"
             ],
             [
              0.6666666666666666,
              "#ed7953"
             ],
             [
              0.7777777777777778,
              "#fb9f3a"
             ],
             [
              0.8888888888888888,
              "#fdca26"
             ],
             [
              1,
              "#f0f921"
             ]
            ],
            "type": "histogram2dcontour"
           }
          ],
          "mesh3d": [
           {
            "colorbar": {
             "outlinewidth": 0,
             "ticks": ""
            },
            "type": "mesh3d"
           }
          ],
          "parcoords": [
           {
            "line": {
             "colorbar": {
              "outlinewidth": 0,
              "ticks": ""
             }
            },
            "type": "parcoords"
           }
          ],
          "pie": [
           {
            "automargin": true,
            "type": "pie"
           }
          ],
          "scatter": [
           {
            "marker": {
             "colorbar": {
              "outlinewidth": 0,
              "ticks": ""
             }
            },
            "type": "scatter"
           }
          ],
          "scatter3d": [
           {
            "line": {
             "colorbar": {
              "outlinewidth": 0,
              "ticks": ""
             }
            },
            "marker": {
             "colorbar": {
              "outlinewidth": 0,
              "ticks": ""
             }
            },
            "type": "scatter3d"
           }
          ],
          "scattercarpet": [
           {
            "marker": {
             "colorbar": {
              "outlinewidth": 0,
              "ticks": ""
             }
            },
            "type": "scattercarpet"
           }
          ],
          "scattergeo": [
           {
            "marker": {
             "colorbar": {
              "outlinewidth": 0,
              "ticks": ""
             }
            },
            "type": "scattergeo"
           }
          ],
          "scattergl": [
           {
            "marker": {
             "colorbar": {
              "outlinewidth": 0,
              "ticks": ""
             }
            },
            "type": "scattergl"
           }
          ],
          "scattermapbox": [
           {
            "marker": {
             "colorbar": {
              "outlinewidth": 0,
              "ticks": ""
             }
            },
            "type": "scattermapbox"
           }
          ],
          "scatterpolar": [
           {
            "marker": {
             "colorbar": {
              "outlinewidth": 0,
              "ticks": ""
             }
            },
            "type": "scatterpolar"
           }
          ],
          "scatterpolargl": [
           {
            "marker": {
             "colorbar": {
              "outlinewidth": 0,
              "ticks": ""
             }
            },
            "type": "scatterpolargl"
           }
          ],
          "scatterternary": [
           {
            "marker": {
             "colorbar": {
              "outlinewidth": 0,
              "ticks": ""
             }
            },
            "type": "scatterternary"
           }
          ],
          "surface": [
           {
            "colorbar": {
             "outlinewidth": 0,
             "ticks": ""
            },
            "colorscale": [
             [
              0,
              "#0d0887"
             ],
             [
              0.1111111111111111,
              "#46039f"
             ],
             [
              0.2222222222222222,
              "#7201a8"
             ],
             [
              0.3333333333333333,
              "#9c179e"
             ],
             [
              0.4444444444444444,
              "#bd3786"
             ],
             [
              0.5555555555555556,
              "#d8576b"
             ],
             [
              0.6666666666666666,
              "#ed7953"
             ],
             [
              0.7777777777777778,
              "#fb9f3a"
             ],
             [
              0.8888888888888888,
              "#fdca26"
             ],
             [
              1,
              "#f0f921"
             ]
            ],
            "type": "surface"
           }
          ],
          "table": [
           {
            "cells": {
             "fill": {
              "color": "#EBF0F8"
             },
             "line": {
              "color": "white"
             }
            },
            "header": {
             "fill": {
              "color": "#C8D4E3"
             },
             "line": {
              "color": "white"
             }
            },
            "type": "table"
           }
          ]
         },
         "layout": {
          "annotationdefaults": {
           "arrowcolor": "#2a3f5f",
           "arrowhead": 0,
           "arrowwidth": 1
          },
          "autotypenumbers": "strict",
          "coloraxis": {
           "colorbar": {
            "outlinewidth": 0,
            "ticks": ""
           }
          },
          "colorscale": {
           "diverging": [
            [
             0,
             "#8e0152"
            ],
            [
             0.1,
             "#c51b7d"
            ],
            [
             0.2,
             "#de77ae"
            ],
            [
             0.3,
             "#f1b6da"
            ],
            [
             0.4,
             "#fde0ef"
            ],
            [
             0.5,
             "#f7f7f7"
            ],
            [
             0.6,
             "#e6f5d0"
            ],
            [
             0.7,
             "#b8e186"
            ],
            [
             0.8,
             "#7fbc41"
            ],
            [
             0.9,
             "#4d9221"
            ],
            [
             1,
             "#276419"
            ]
           ],
           "sequential": [
            [
             0,
             "#0d0887"
            ],
            [
             0.1111111111111111,
             "#46039f"
            ],
            [
             0.2222222222222222,
             "#7201a8"
            ],
            [
             0.3333333333333333,
             "#9c179e"
            ],
            [
             0.4444444444444444,
             "#bd3786"
            ],
            [
             0.5555555555555556,
             "#d8576b"
            ],
            [
             0.6666666666666666,
             "#ed7953"
            ],
            [
             0.7777777777777778,
             "#fb9f3a"
            ],
            [
             0.8888888888888888,
             "#fdca26"
            ],
            [
             1,
             "#f0f921"
            ]
           ],
           "sequentialminus": [
            [
             0,
             "#0d0887"
            ],
            [
             0.1111111111111111,
             "#46039f"
            ],
            [
             0.2222222222222222,
             "#7201a8"
            ],
            [
             0.3333333333333333,
             "#9c179e"
            ],
            [
             0.4444444444444444,
             "#bd3786"
            ],
            [
             0.5555555555555556,
             "#d8576b"
            ],
            [
             0.6666666666666666,
             "#ed7953"
            ],
            [
             0.7777777777777778,
             "#fb9f3a"
            ],
            [
             0.8888888888888888,
             "#fdca26"
            ],
            [
             1,
             "#f0f921"
            ]
           ]
          },
          "colorway": [
           "#636efa",
           "#EF553B",
           "#00cc96",
           "#ab63fa",
           "#FFA15A",
           "#19d3f3",
           "#FF6692",
           "#B6E880",
           "#FF97FF",
           "#FECB52"
          ],
          "font": {
           "color": "#2a3f5f"
          },
          "geo": {
           "bgcolor": "white",
           "lakecolor": "white",
           "landcolor": "#E5ECF6",
           "showlakes": true,
           "showland": true,
           "subunitcolor": "white"
          },
          "hoverlabel": {
           "align": "left"
          },
          "hovermode": "closest",
          "mapbox": {
           "style": "light"
          },
          "paper_bgcolor": "white",
          "plot_bgcolor": "#E5ECF6",
          "polar": {
           "angularaxis": {
            "gridcolor": "white",
            "linecolor": "white",
            "ticks": ""
           },
           "bgcolor": "#E5ECF6",
           "radialaxis": {
            "gridcolor": "white",
            "linecolor": "white",
            "ticks": ""
           }
          },
          "scene": {
           "xaxis": {
            "backgroundcolor": "#E5ECF6",
            "gridcolor": "white",
            "gridwidth": 2,
            "linecolor": "white",
            "showbackground": true,
            "ticks": "",
            "zerolinecolor": "white"
           },
           "yaxis": {
            "backgroundcolor": "#E5ECF6",
            "gridcolor": "white",
            "gridwidth": 2,
            "linecolor": "white",
            "showbackground": true,
            "ticks": "",
            "zerolinecolor": "white"
           },
           "zaxis": {
            "backgroundcolor": "#E5ECF6",
            "gridcolor": "white",
            "gridwidth": 2,
            "linecolor": "white",
            "showbackground": true,
            "ticks": "",
            "zerolinecolor": "white"
           }
          },
          "shapedefaults": {
           "line": {
            "color": "#2a3f5f"
           }
          },
          "ternary": {
           "aaxis": {
            "gridcolor": "white",
            "linecolor": "white",
            "ticks": ""
           },
           "baxis": {
            "gridcolor": "white",
            "linecolor": "white",
            "ticks": ""
           },
           "bgcolor": "#E5ECF6",
           "caxis": {
            "gridcolor": "white",
            "linecolor": "white",
            "ticks": ""
           }
          },
          "title": {
           "x": 0.05
          },
          "xaxis": {
           "automargin": true,
           "gridcolor": "white",
           "linecolor": "white",
           "ticks": "",
           "title": {
            "standoff": 15
           },
           "zerolinecolor": "white",
           "zerolinewidth": 2
          },
          "yaxis": {
           "automargin": true,
           "gridcolor": "white",
           "linecolor": "white",
           "ticks": "",
           "title": {
            "standoff": 15
           },
           "zerolinecolor": "white",
           "zerolinewidth": 2
          }
         }
        },
        "title": {
         "text": "Número de tuits por Hora"
        }
       }
      },
      "text/html": [
       "<div>                            <div id=\"37128972-cc3b-4cb5-bf4c-f5a781470f10\" class=\"plotly-graph-div\" style=\"height:525px; width:100%;\"></div>            <script type=\"text/javascript\">                require([\"plotly\"], function(Plotly) {                    window.PLOTLYENV=window.PLOTLYENV || {};                                    if (document.getElementById(\"37128972-cc3b-4cb5-bf4c-f5a781470f10\")) {                    Plotly.newPlot(                        \"37128972-cc3b-4cb5-bf4c-f5a781470f10\",                        [{\"hoverinfo\": \"text\", \"line\": {\"color\": \"#1DA1F2\"}, \"mode\": \"lines+markers\", \"name\": \"D\\u00edas\", \"text\": [\"Fecha: 17:37:00<br>Tuits: 1\", \"Fecha: 17:39:00<br>Tuits: 1\", \"Fecha: 17:40:00<br>Tuits: 1\", \"Fecha: 17:41:00<br>Tuits: 1\", \"Fecha: 17:43:00<br>Tuits: 1\", \"Fecha: 17:45:00<br>Tuits: 1\", \"Fecha: 17:46:00<br>Tuits: 1\", \"Fecha: 17:47:00<br>Tuits: 1\", \"Fecha: 17:53:00<br>Tuits: 1\", \"Fecha: 17:55:00<br>Tuits: 1\", \"Fecha: 17:57:00<br>Tuits: 1\", \"Fecha: 17:59:00<br>Tuits: 1\", \"Fecha: 18:01:00<br>Tuits: 1\", \"Fecha: 18:03:00<br>Tuits: 1\", \"Fecha: 18:05:00<br>Tuits: 2\", \"Fecha: 18:06:00<br>Tuits: 2\", \"Fecha: 18:10:00<br>Tuits: 1\", \"Fecha: 18:11:00<br>Tuits: 1\", \"Fecha: 18:12:00<br>Tuits: 1\", \"Fecha: 18:14:00<br>Tuits: 1\", \"Fecha: 18:16:00<br>Tuits: 1\", \"Fecha: 18:18:00<br>Tuits: 1\", \"Fecha: 18:20:00<br>Tuits: 3\", \"Fecha: 18:24:00<br>Tuits: 2\", \"Fecha: 18:26:00<br>Tuits: 1\", \"Fecha: 18:27:00<br>Tuits: 1\", \"Fecha: 18:30:00<br>Tuits: 2\", \"Fecha: 18:32:00<br>Tuits: 1\", \"Fecha: 18:33:00<br>Tuits: 1\", \"Fecha: 18:36:00<br>Tuits: 1\", \"Fecha: 18:40:00<br>Tuits: 3\", \"Fecha: 18:41:00<br>Tuits: 1\", \"Fecha: 18:47:00<br>Tuits: 1\", \"Fecha: 18:49:00<br>Tuits: 1\", \"Fecha: 18:51:00<br>Tuits: 1\", \"Fecha: 18:53:00<br>Tuits: 1\", \"Fecha: 18:54:00<br>Tuits: 1\", \"Fecha: 18:57:00<br>Tuits: 1\", \"Fecha: 19:01:00<br>Tuits: 1\", \"Fecha: 19:06:00<br>Tuits: 1\", \"Fecha: 19:10:00<br>Tuits: 1\", \"Fecha: 19:11:00<br>Tuits: 1\", \"Fecha: 19:12:00<br>Tuits: 1\", \"Fecha: 19:17:00<br>Tuits: 1\", \"Fecha: 19:20:00<br>Tuits: 1\", \"Fecha: 19:23:00<br>Tuits: 1\", \"Fecha: 19:25:00<br>Tuits: 1\", \"Fecha: 19:27:00<br>Tuits: 2\", \"Fecha: 19:33:00<br>Tuits: 1\", \"Fecha: 19:36:00<br>Tuits: 2\", \"Fecha: 19:39:00<br>Tuits: 1\", \"Fecha: 19:40:00<br>Tuits: 1\", \"Fecha: 19:41:00<br>Tuits: 1\", \"Fecha: 19:45:00<br>Tuits: 1\", \"Fecha: 19:47:00<br>Tuits: 1\", \"Fecha: 19:49:00<br>Tuits: 1\", \"Fecha: 19:52:00<br>Tuits: 1\", \"Fecha: 19:53:00<br>Tuits: 1\", \"Fecha: 19:54:00<br>Tuits: 2\", \"Fecha: 19:55:00<br>Tuits: 1\", \"Fecha: 19:56:00<br>Tuits: 1\", \"Fecha: 19:57:00<br>Tuits: 1\", \"Fecha: 19:59:00<br>Tuits: 2\", \"Fecha: 20:03:00<br>Tuits: 1\", \"Fecha: 20:04:00<br>Tuits: 1\", \"Fecha: 20:05:00<br>Tuits: 2\", \"Fecha: 20:06:00<br>Tuits: 1\", \"Fecha: 20:08:00<br>Tuits: 1\", \"Fecha: 20:10:00<br>Tuits: 1\", \"Fecha: 20:12:00<br>Tuits: 1\", \"Fecha: 20:15:00<br>Tuits: 2\", \"Fecha: 20:17:00<br>Tuits: 2\", \"Fecha: 20:20:00<br>Tuits: 1\", \"Fecha: 20:25:00<br>Tuits: 1\", \"Fecha: 20:26:00<br>Tuits: 2\", \"Fecha: 20:35:00<br>Tuits: 2\", \"Fecha: 20:38:00<br>Tuits: 1\", \"Fecha: 20:39:00<br>Tuits: 1\", \"Fecha: 20:40:00<br>Tuits: 3\", \"Fecha: 20:42:00<br>Tuits: 1\", \"Fecha: 20:43:00<br>Tuits: 1\"], \"type\": \"scatter\", \"x\": [\"17:37:00\", \"17:39:00\", \"17:40:00\", \"17:41:00\", \"17:43:00\", \"17:45:00\", \"17:46:00\", \"17:47:00\", \"17:53:00\", \"17:55:00\", \"17:57:00\", \"17:59:00\", \"18:01:00\", \"18:03:00\", \"18:05:00\", \"18:06:00\", \"18:10:00\", \"18:11:00\", \"18:12:00\", \"18:14:00\", \"18:16:00\", \"18:18:00\", \"18:20:00\", \"18:24:00\", \"18:26:00\", \"18:27:00\", \"18:30:00\", \"18:32:00\", \"18:33:00\", \"18:36:00\", \"18:40:00\", \"18:41:00\", \"18:47:00\", \"18:49:00\", \"18:51:00\", \"18:53:00\", \"18:54:00\", \"18:57:00\", \"19:01:00\", \"19:06:00\", \"19:10:00\", \"19:11:00\", \"19:12:00\", \"19:17:00\", \"19:20:00\", \"19:23:00\", \"19:25:00\", \"19:27:00\", \"19:33:00\", \"19:36:00\", \"19:39:00\", \"19:40:00\", \"19:41:00\", \"19:45:00\", \"19:47:00\", \"19:49:00\", \"19:52:00\", \"19:53:00\", \"19:54:00\", \"19:55:00\", \"19:56:00\", \"19:57:00\", \"19:59:00\", \"20:03:00\", \"20:04:00\", \"20:05:00\", \"20:06:00\", \"20:08:00\", \"20:10:00\", \"20:12:00\", \"20:15:00\", \"20:17:00\", \"20:20:00\", \"20:25:00\", \"20:26:00\", \"20:35:00\", \"20:38:00\", \"20:39:00\", \"20:40:00\", \"20:42:00\", \"20:43:00\"], \"y\": [1, 1, 1, 1, 1, 1, 1, 1, 1, 1, 1, 1, 1, 1, 2, 2, 1, 1, 1, 1, 1, 1, 3, 2, 1, 1, 2, 1, 1, 1, 3, 1, 1, 1, 1, 1, 1, 1, 1, 1, 1, 1, 1, 1, 1, 1, 1, 2, 1, 2, 1, 1, 1, 1, 1, 1, 1, 1, 2, 1, 1, 1, 2, 1, 1, 2, 1, 1, 1, 1, 2, 2, 1, 1, 2, 2, 1, 1, 3, 1, 1]}],                        {\"template\": {\"data\": {\"bar\": [{\"error_x\": {\"color\": \"#2a3f5f\"}, \"error_y\": {\"color\": \"#2a3f5f\"}, \"marker\": {\"line\": {\"color\": \"#E5ECF6\", \"width\": 0.5}}, \"type\": \"bar\"}], \"barpolar\": [{\"marker\": {\"line\": {\"color\": \"#E5ECF6\", \"width\": 0.5}}, \"type\": \"barpolar\"}], \"carpet\": [{\"aaxis\": {\"endlinecolor\": \"#2a3f5f\", \"gridcolor\": \"white\", \"linecolor\": \"white\", \"minorgridcolor\": \"white\", \"startlinecolor\": \"#2a3f5f\"}, \"baxis\": {\"endlinecolor\": \"#2a3f5f\", \"gridcolor\": \"white\", \"linecolor\": \"white\", \"minorgridcolor\": \"white\", \"startlinecolor\": \"#2a3f5f\"}, \"type\": \"carpet\"}], \"choropleth\": [{\"colorbar\": {\"outlinewidth\": 0, \"ticks\": \"\"}, \"type\": \"choropleth\"}], \"contour\": [{\"colorbar\": {\"outlinewidth\": 0, \"ticks\": \"\"}, \"colorscale\": [[0.0, \"#0d0887\"], [0.1111111111111111, \"#46039f\"], [0.2222222222222222, \"#7201a8\"], [0.3333333333333333, \"#9c179e\"], [0.4444444444444444, \"#bd3786\"], [0.5555555555555556, \"#d8576b\"], [0.6666666666666666, \"#ed7953\"], [0.7777777777777778, \"#fb9f3a\"], [0.8888888888888888, \"#fdca26\"], [1.0, \"#f0f921\"]], \"type\": \"contour\"}], \"contourcarpet\": [{\"colorbar\": {\"outlinewidth\": 0, \"ticks\": \"\"}, \"type\": \"contourcarpet\"}], \"heatmap\": [{\"colorbar\": {\"outlinewidth\": 0, \"ticks\": \"\"}, \"colorscale\": [[0.0, \"#0d0887\"], [0.1111111111111111, \"#46039f\"], [0.2222222222222222, \"#7201a8\"], [0.3333333333333333, \"#9c179e\"], [0.4444444444444444, \"#bd3786\"], [0.5555555555555556, \"#d8576b\"], [0.6666666666666666, \"#ed7953\"], [0.7777777777777778, \"#fb9f3a\"], [0.8888888888888888, \"#fdca26\"], [1.0, \"#f0f921\"]], \"type\": \"heatmap\"}], \"heatmapgl\": [{\"colorbar\": {\"outlinewidth\": 0, \"ticks\": \"\"}, \"colorscale\": [[0.0, \"#0d0887\"], [0.1111111111111111, \"#46039f\"], [0.2222222222222222, \"#7201a8\"], [0.3333333333333333, \"#9c179e\"], [0.4444444444444444, \"#bd3786\"], [0.5555555555555556, \"#d8576b\"], [0.6666666666666666, \"#ed7953\"], [0.7777777777777778, \"#fb9f3a\"], [0.8888888888888888, \"#fdca26\"], [1.0, \"#f0f921\"]], \"type\": \"heatmapgl\"}], \"histogram\": [{\"marker\": {\"colorbar\": {\"outlinewidth\": 0, \"ticks\": \"\"}}, \"type\": \"histogram\"}], \"histogram2d\": [{\"colorbar\": {\"outlinewidth\": 0, \"ticks\": \"\"}, \"colorscale\": [[0.0, \"#0d0887\"], [0.1111111111111111, \"#46039f\"], [0.2222222222222222, \"#7201a8\"], [0.3333333333333333, \"#9c179e\"], [0.4444444444444444, \"#bd3786\"], [0.5555555555555556, \"#d8576b\"], [0.6666666666666666, \"#ed7953\"], [0.7777777777777778, \"#fb9f3a\"], [0.8888888888888888, \"#fdca26\"], [1.0, \"#f0f921\"]], \"type\": \"histogram2d\"}], \"histogram2dcontour\": [{\"colorbar\": {\"outlinewidth\": 0, \"ticks\": \"\"}, \"colorscale\": [[0.0, \"#0d0887\"], [0.1111111111111111, \"#46039f\"], [0.2222222222222222, \"#7201a8\"], [0.3333333333333333, \"#9c179e\"], [0.4444444444444444, \"#bd3786\"], [0.5555555555555556, \"#d8576b\"], [0.6666666666666666, \"#ed7953\"], [0.7777777777777778, \"#fb9f3a\"], [0.8888888888888888, \"#fdca26\"], [1.0, \"#f0f921\"]], \"type\": \"histogram2dcontour\"}], \"mesh3d\": [{\"colorbar\": {\"outlinewidth\": 0, \"ticks\": \"\"}, \"type\": \"mesh3d\"}], \"parcoords\": [{\"line\": {\"colorbar\": {\"outlinewidth\": 0, \"ticks\": \"\"}}, \"type\": \"parcoords\"}], \"pie\": [{\"automargin\": true, \"type\": \"pie\"}], \"scatter\": [{\"marker\": {\"colorbar\": {\"outlinewidth\": 0, \"ticks\": \"\"}}, \"type\": \"scatter\"}], \"scatter3d\": [{\"line\": {\"colorbar\": {\"outlinewidth\": 0, \"ticks\": \"\"}}, \"marker\": {\"colorbar\": {\"outlinewidth\": 0, \"ticks\": \"\"}}, \"type\": \"scatter3d\"}], \"scattercarpet\": [{\"marker\": {\"colorbar\": {\"outlinewidth\": 0, \"ticks\": \"\"}}, \"type\": \"scattercarpet\"}], \"scattergeo\": [{\"marker\": {\"colorbar\": {\"outlinewidth\": 0, \"ticks\": \"\"}}, \"type\": \"scattergeo\"}], \"scattergl\": [{\"marker\": {\"colorbar\": {\"outlinewidth\": 0, \"ticks\": \"\"}}, \"type\": \"scattergl\"}], \"scattermapbox\": [{\"marker\": {\"colorbar\": {\"outlinewidth\": 0, \"ticks\": \"\"}}, \"type\": \"scattermapbox\"}], \"scatterpolar\": [{\"marker\": {\"colorbar\": {\"outlinewidth\": 0, \"ticks\": \"\"}}, \"type\": \"scatterpolar\"}], \"scatterpolargl\": [{\"marker\": {\"colorbar\": {\"outlinewidth\": 0, \"ticks\": \"\"}}, \"type\": \"scatterpolargl\"}], \"scatterternary\": [{\"marker\": {\"colorbar\": {\"outlinewidth\": 0, \"ticks\": \"\"}}, \"type\": \"scatterternary\"}], \"surface\": [{\"colorbar\": {\"outlinewidth\": 0, \"ticks\": \"\"}, \"colorscale\": [[0.0, \"#0d0887\"], [0.1111111111111111, \"#46039f\"], [0.2222222222222222, \"#7201a8\"], [0.3333333333333333, \"#9c179e\"], [0.4444444444444444, \"#bd3786\"], [0.5555555555555556, \"#d8576b\"], [0.6666666666666666, \"#ed7953\"], [0.7777777777777778, \"#fb9f3a\"], [0.8888888888888888, \"#fdca26\"], [1.0, \"#f0f921\"]], \"type\": \"surface\"}], \"table\": [{\"cells\": {\"fill\": {\"color\": \"#EBF0F8\"}, \"line\": {\"color\": \"white\"}}, \"header\": {\"fill\": {\"color\": \"#C8D4E3\"}, \"line\": {\"color\": \"white\"}}, \"type\": \"table\"}]}, \"layout\": {\"annotationdefaults\": {\"arrowcolor\": \"#2a3f5f\", \"arrowhead\": 0, \"arrowwidth\": 1}, \"autotypenumbers\": \"strict\", \"coloraxis\": {\"colorbar\": {\"outlinewidth\": 0, \"ticks\": \"\"}}, \"colorscale\": {\"diverging\": [[0, \"#8e0152\"], [0.1, \"#c51b7d\"], [0.2, \"#de77ae\"], [0.3, \"#f1b6da\"], [0.4, \"#fde0ef\"], [0.5, \"#f7f7f7\"], [0.6, \"#e6f5d0\"], [0.7, \"#b8e186\"], [0.8, \"#7fbc41\"], [0.9, \"#4d9221\"], [1, \"#276419\"]], \"sequential\": [[0.0, \"#0d0887\"], [0.1111111111111111, \"#46039f\"], [0.2222222222222222, \"#7201a8\"], [0.3333333333333333, \"#9c179e\"], [0.4444444444444444, \"#bd3786\"], [0.5555555555555556, \"#d8576b\"], [0.6666666666666666, \"#ed7953\"], [0.7777777777777778, \"#fb9f3a\"], [0.8888888888888888, \"#fdca26\"], [1.0, \"#f0f921\"]], \"sequentialminus\": [[0.0, \"#0d0887\"], [0.1111111111111111, \"#46039f\"], [0.2222222222222222, \"#7201a8\"], [0.3333333333333333, \"#9c179e\"], [0.4444444444444444, \"#bd3786\"], [0.5555555555555556, \"#d8576b\"], [0.6666666666666666, \"#ed7953\"], [0.7777777777777778, \"#fb9f3a\"], [0.8888888888888888, \"#fdca26\"], [1.0, \"#f0f921\"]]}, \"colorway\": [\"#636efa\", \"#EF553B\", \"#00cc96\", \"#ab63fa\", \"#FFA15A\", \"#19d3f3\", \"#FF6692\", \"#B6E880\", \"#FF97FF\", \"#FECB52\"], \"font\": {\"color\": \"#2a3f5f\"}, \"geo\": {\"bgcolor\": \"white\", \"lakecolor\": \"white\", \"landcolor\": \"#E5ECF6\", \"showlakes\": true, \"showland\": true, \"subunitcolor\": \"white\"}, \"hoverlabel\": {\"align\": \"left\"}, \"hovermode\": \"closest\", \"mapbox\": {\"style\": \"light\"}, \"paper_bgcolor\": \"white\", \"plot_bgcolor\": \"#E5ECF6\", \"polar\": {\"angularaxis\": {\"gridcolor\": \"white\", \"linecolor\": \"white\", \"ticks\": \"\"}, \"bgcolor\": \"#E5ECF6\", \"radialaxis\": {\"gridcolor\": \"white\", \"linecolor\": \"white\", \"ticks\": \"\"}}, \"scene\": {\"xaxis\": {\"backgroundcolor\": \"#E5ECF6\", \"gridcolor\": \"white\", \"gridwidth\": 2, \"linecolor\": \"white\", \"showbackground\": true, \"ticks\": \"\", \"zerolinecolor\": \"white\"}, \"yaxis\": {\"backgroundcolor\": \"#E5ECF6\", \"gridcolor\": \"white\", \"gridwidth\": 2, \"linecolor\": \"white\", \"showbackground\": true, \"ticks\": \"\", \"zerolinecolor\": \"white\"}, \"zaxis\": {\"backgroundcolor\": \"#E5ECF6\", \"gridcolor\": \"white\", \"gridwidth\": 2, \"linecolor\": \"white\", \"showbackground\": true, \"ticks\": \"\", \"zerolinecolor\": \"white\"}}, \"shapedefaults\": {\"line\": {\"color\": \"#2a3f5f\"}}, \"ternary\": {\"aaxis\": {\"gridcolor\": \"white\", \"linecolor\": \"white\", \"ticks\": \"\"}, \"baxis\": {\"gridcolor\": \"white\", \"linecolor\": \"white\", \"ticks\": \"\"}, \"bgcolor\": \"#E5ECF6\", \"caxis\": {\"gridcolor\": \"white\", \"linecolor\": \"white\", \"ticks\": \"\"}}, \"title\": {\"x\": 0.05}, \"xaxis\": {\"automargin\": true, \"gridcolor\": \"white\", \"linecolor\": \"white\", \"ticks\": \"\", \"title\": {\"standoff\": 15}, \"zerolinecolor\": \"white\", \"zerolinewidth\": 2}, \"yaxis\": {\"automargin\": true, \"gridcolor\": \"white\", \"linecolor\": \"white\", \"ticks\": \"\", \"title\": {\"standoff\": 15}, \"zerolinecolor\": \"white\", \"zerolinewidth\": 2}}}, \"title\": {\"text\": \"N\\u00famero de tuits por Hora\"}},                        {\"responsive\": true}                    ).then(function(){\n",
       "                            \n",
       "var gd = document.getElementById('37128972-cc3b-4cb5-bf4c-f5a781470f10');\n",
       "var x = new MutationObserver(function (mutations, observer) {{\n",
       "        var display = window.getComputedStyle(gd).display;\n",
       "        if (!display || display === 'none') {{\n",
       "            console.log([gd, 'removed!']);\n",
       "            Plotly.purge(gd);\n",
       "            observer.disconnect();\n",
       "        }}\n",
       "}});\n",
       "\n",
       "// Listen for the removal of the full notebook cells\n",
       "var notebookContainer = gd.closest('#notebook-container');\n",
       "if (notebookContainer) {{\n",
       "    x.observe(notebookContainer, {childList: true});\n",
       "}}\n",
       "\n",
       "// Listen for the clearing of the current output cell\n",
       "var outputEl = gd.closest('.output');\n",
       "if (outputEl) {{\n",
       "    x.observe(outputEl, {childList: true});\n",
       "}}\n",
       "\n",
       "                        })                };                });            </script>        </div>"
      ]
     },
     "metadata": {},
     "output_type": "display_data"
    }
   ],
   "source": [
    "import plotly.io as pio\n",
    "import plotly.express as px\n",
    "import plotly.graph_objs as go\n",
    "from plotly.offline import download_plotlyjs, init_notebook_mode, plot, iplot\n",
    "\n",
    "import matplotlib.pyplot as plt\n",
    "%matplotlib inline\n",
    "init_notebook_mode(connected=True)\n",
    "data['fecha'] = data.date.dt.floor('T').dt.time\n",
    "\n",
    "temp = pd.DataFrame(data.fecha.value_counts()).reset_index()\n",
    "temp.columns = ['fecha', 'cnt']\n",
    "temp = temp.sort_values('fecha')\n",
    "trace = go.Scatter(x=temp.fecha.values,\n",
    "                   y=temp.cnt.values,\n",
    "                   text=[f\"Fecha: {f}<br>Tuits: {c}\" for f,c in zip(temp.fecha.values,temp.cnt.values)],\n",
    "                   hoverinfo='text',\n",
    "                   mode='lines+markers',\n",
    "                   name='Días',\n",
    "                   line={'color':'#1DA1F2'})\n",
    "\n",
    "layout = go.Layout(title='Número de tuits por Hora')\n",
    "\n",
    "fig = go.Figure(data=[trace], layout=layout)\n",
    "iplot(fig)"
   ]
  },
  {
   "cell_type": "code",
   "execution_count": 30,
   "metadata": {},
   "outputs": [
    {
     "data": {
      "text/html": [
       "<div>\n",
       "<style scoped>\n",
       "    .dataframe tbody tr th:only-of-type {\n",
       "        vertical-align: middle;\n",
       "    }\n",
       "\n",
       "    .dataframe tbody tr th {\n",
       "        vertical-align: top;\n",
       "    }\n",
       "\n",
       "    .dataframe thead th {\n",
       "        text-align: right;\n",
       "    }\n",
       "</style>\n",
       "<table border=\"1\" class=\"dataframe\">\n",
       "  <thead>\n",
       "    <tr style=\"text-align: right;\">\n",
       "      <th></th>\n",
       "      <th>emoji</th>\n",
       "      <th>cnt</th>\n",
       "    </tr>\n",
       "  </thead>\n",
       "  <tbody>\n",
       "    <tr>\n",
       "      <th>3</th>\n",
       "      <td>😘</td>\n",
       "      <td>3</td>\n",
       "    </tr>\n",
       "    <tr>\n",
       "      <th>6</th>\n",
       "      <td>💛</td>\n",
       "      <td>3</td>\n",
       "    </tr>\n",
       "    <tr>\n",
       "      <th>8</th>\n",
       "      <td>👉</td>\n",
       "      <td>2</td>\n",
       "    </tr>\n",
       "    <tr>\n",
       "      <th>10</th>\n",
       "      <td>👇🏽</td>\n",
       "      <td>2</td>\n",
       "    </tr>\n",
       "    <tr>\n",
       "      <th>0</th>\n",
       "      <td>👇</td>\n",
       "      <td>1</td>\n",
       "    </tr>\n",
       "  </tbody>\n",
       "</table>\n",
       "</div>"
      ],
      "text/plain": [
       "   emoji  cnt\n",
       "3      😘    3\n",
       "6      💛    3\n",
       "8      👉    2\n",
       "10    👇🏽    2\n",
       "0      👇    1"
      ]
     },
     "execution_count": 30,
     "metadata": {},
     "output_type": "execute_result"
    }
   ],
   "source": [
    "from collections import Counter\n",
    "import regex\n",
    "import emoji\n",
    "\n",
    "def get_emojis(text):\n",
    "    emoji_list = []\n",
    "    data = regex.findall(r'\\X', text)\n",
    "    for word in data:\n",
    "        if any(char in emoji.UNICODE_EMOJI['en'] for char in word):\n",
    "            emoji_list.append(word)\n",
    "\n",
    "    return emoji_list\n",
    "\n",
    "data['emojis'] = data['clean'].apply(lambda text: get_emojis(text))\n",
    "\n",
    "temp_emojis = pd.DataFrame(list(zip(Counter(sum(data.emojis.values,[])).keys(),Counter(sum(data.emojis.values,[])).values())))\n",
    "temp_emojis.columns = ['emoji', 'cnt']\n",
    "temp_emojis.sort_values('cnt', ascending=False, inplace=True)\n",
    "temp_emojis.head()"
   ]
  },
  {
   "cell_type": "code",
   "execution_count": 31,
   "metadata": {},
   "outputs": [
    {
     "data": {
      "application/vnd.plotly.v1+json": {
       "config": {
        "linkText": "Export to plot.ly",
        "plotlyServerURL": "https://plot.ly",
        "showLink": false
       },
       "data": [
        {
         "type": "bar",
         "x": [
          "😘",
          "💛",
          "👉",
          "👇🏽",
          "👇",
          "👍",
          "😩",
          "✨",
          "👊🏼",
          "🗞️",
          "🙂",
          "👇🏿",
          "❤️",
          "💙",
          "👉🏽"
         ],
         "y": [
          3,
          3,
          2,
          2,
          1,
          1,
          1,
          1,
          1,
          1,
          1,
          1,
          1,
          1,
          1
         ]
        }
       ],
       "layout": {
        "template": {
         "data": {
          "bar": [
           {
            "error_x": {
             "color": "#2a3f5f"
            },
            "error_y": {
             "color": "#2a3f5f"
            },
            "marker": {
             "line": {
              "color": "#E5ECF6",
              "width": 0.5
             }
            },
            "type": "bar"
           }
          ],
          "barpolar": [
           {
            "marker": {
             "line": {
              "color": "#E5ECF6",
              "width": 0.5
             }
            },
            "type": "barpolar"
           }
          ],
          "carpet": [
           {
            "aaxis": {
             "endlinecolor": "#2a3f5f",
             "gridcolor": "white",
             "linecolor": "white",
             "minorgridcolor": "white",
             "startlinecolor": "#2a3f5f"
            },
            "baxis": {
             "endlinecolor": "#2a3f5f",
             "gridcolor": "white",
             "linecolor": "white",
             "minorgridcolor": "white",
             "startlinecolor": "#2a3f5f"
            },
            "type": "carpet"
           }
          ],
          "choropleth": [
           {
            "colorbar": {
             "outlinewidth": 0,
             "ticks": ""
            },
            "type": "choropleth"
           }
          ],
          "contour": [
           {
            "colorbar": {
             "outlinewidth": 0,
             "ticks": ""
            },
            "colorscale": [
             [
              0,
              "#0d0887"
             ],
             [
              0.1111111111111111,
              "#46039f"
             ],
             [
              0.2222222222222222,
              "#7201a8"
             ],
             [
              0.3333333333333333,
              "#9c179e"
             ],
             [
              0.4444444444444444,
              "#bd3786"
             ],
             [
              0.5555555555555556,
              "#d8576b"
             ],
             [
              0.6666666666666666,
              "#ed7953"
             ],
             [
              0.7777777777777778,
              "#fb9f3a"
             ],
             [
              0.8888888888888888,
              "#fdca26"
             ],
             [
              1,
              "#f0f921"
             ]
            ],
            "type": "contour"
           }
          ],
          "contourcarpet": [
           {
            "colorbar": {
             "outlinewidth": 0,
             "ticks": ""
            },
            "type": "contourcarpet"
           }
          ],
          "heatmap": [
           {
            "colorbar": {
             "outlinewidth": 0,
             "ticks": ""
            },
            "colorscale": [
             [
              0,
              "#0d0887"
             ],
             [
              0.1111111111111111,
              "#46039f"
             ],
             [
              0.2222222222222222,
              "#7201a8"
             ],
             [
              0.3333333333333333,
              "#9c179e"
             ],
             [
              0.4444444444444444,
              "#bd3786"
             ],
             [
              0.5555555555555556,
              "#d8576b"
             ],
             [
              0.6666666666666666,
              "#ed7953"
             ],
             [
              0.7777777777777778,
              "#fb9f3a"
             ],
             [
              0.8888888888888888,
              "#fdca26"
             ],
             [
              1,
              "#f0f921"
             ]
            ],
            "type": "heatmap"
           }
          ],
          "heatmapgl": [
           {
            "colorbar": {
             "outlinewidth": 0,
             "ticks": ""
            },
            "colorscale": [
             [
              0,
              "#0d0887"
             ],
             [
              0.1111111111111111,
              "#46039f"
             ],
             [
              0.2222222222222222,
              "#7201a8"
             ],
             [
              0.3333333333333333,
              "#9c179e"
             ],
             [
              0.4444444444444444,
              "#bd3786"
             ],
             [
              0.5555555555555556,
              "#d8576b"
             ],
             [
              0.6666666666666666,
              "#ed7953"
             ],
             [
              0.7777777777777778,
              "#fb9f3a"
             ],
             [
              0.8888888888888888,
              "#fdca26"
             ],
             [
              1,
              "#f0f921"
             ]
            ],
            "type": "heatmapgl"
           }
          ],
          "histogram": [
           {
            "marker": {
             "colorbar": {
              "outlinewidth": 0,
              "ticks": ""
             }
            },
            "type": "histogram"
           }
          ],
          "histogram2d": [
           {
            "colorbar": {
             "outlinewidth": 0,
             "ticks": ""
            },
            "colorscale": [
             [
              0,
              "#0d0887"
             ],
             [
              0.1111111111111111,
              "#46039f"
             ],
             [
              0.2222222222222222,
              "#7201a8"
             ],
             [
              0.3333333333333333,
              "#9c179e"
             ],
             [
              0.4444444444444444,
              "#bd3786"
             ],
             [
              0.5555555555555556,
              "#d8576b"
             ],
             [
              0.6666666666666666,
              "#ed7953"
             ],
             [
              0.7777777777777778,
              "#fb9f3a"
             ],
             [
              0.8888888888888888,
              "#fdca26"
             ],
             [
              1,
              "#f0f921"
             ]
            ],
            "type": "histogram2d"
           }
          ],
          "histogram2dcontour": [
           {
            "colorbar": {
             "outlinewidth": 0,
             "ticks": ""
            },
            "colorscale": [
             [
              0,
              "#0d0887"
             ],
             [
              0.1111111111111111,
              "#46039f"
             ],
             [
              0.2222222222222222,
              "#7201a8"
             ],
             [
              0.3333333333333333,
              "#9c179e"
             ],
             [
              0.4444444444444444,
              "#bd3786"
             ],
             [
              0.5555555555555556,
              "#d8576b"
             ],
             [
              0.6666666666666666,
              "#ed7953"
             ],
             [
              0.7777777777777778,
              "#fb9f3a"
             ],
             [
              0.8888888888888888,
              "#fdca26"
             ],
             [
              1,
              "#f0f921"
             ]
            ],
            "type": "histogram2dcontour"
           }
          ],
          "mesh3d": [
           {
            "colorbar": {
             "outlinewidth": 0,
             "ticks": ""
            },
            "type": "mesh3d"
           }
          ],
          "parcoords": [
           {
            "line": {
             "colorbar": {
              "outlinewidth": 0,
              "ticks": ""
             }
            },
            "type": "parcoords"
           }
          ],
          "pie": [
           {
            "automargin": true,
            "type": "pie"
           }
          ],
          "scatter": [
           {
            "marker": {
             "colorbar": {
              "outlinewidth": 0,
              "ticks": ""
             }
            },
            "type": "scatter"
           }
          ],
          "scatter3d": [
           {
            "line": {
             "colorbar": {
              "outlinewidth": 0,
              "ticks": ""
             }
            },
            "marker": {
             "colorbar": {
              "outlinewidth": 0,
              "ticks": ""
             }
            },
            "type": "scatter3d"
           }
          ],
          "scattercarpet": [
           {
            "marker": {
             "colorbar": {
              "outlinewidth": 0,
              "ticks": ""
             }
            },
            "type": "scattercarpet"
           }
          ],
          "scattergeo": [
           {
            "marker": {
             "colorbar": {
              "outlinewidth": 0,
              "ticks": ""
             }
            },
            "type": "scattergeo"
           }
          ],
          "scattergl": [
           {
            "marker": {
             "colorbar": {
              "outlinewidth": 0,
              "ticks": ""
             }
            },
            "type": "scattergl"
           }
          ],
          "scattermapbox": [
           {
            "marker": {
             "colorbar": {
              "outlinewidth": 0,
              "ticks": ""
             }
            },
            "type": "scattermapbox"
           }
          ],
          "scatterpolar": [
           {
            "marker": {
             "colorbar": {
              "outlinewidth": 0,
              "ticks": ""
             }
            },
            "type": "scatterpolar"
           }
          ],
          "scatterpolargl": [
           {
            "marker": {
             "colorbar": {
              "outlinewidth": 0,
              "ticks": ""
             }
            },
            "type": "scatterpolargl"
           }
          ],
          "scatterternary": [
           {
            "marker": {
             "colorbar": {
              "outlinewidth": 0,
              "ticks": ""
             }
            },
            "type": "scatterternary"
           }
          ],
          "surface": [
           {
            "colorbar": {
             "outlinewidth": 0,
             "ticks": ""
            },
            "colorscale": [
             [
              0,
              "#0d0887"
             ],
             [
              0.1111111111111111,
              "#46039f"
             ],
             [
              0.2222222222222222,
              "#7201a8"
             ],
             [
              0.3333333333333333,
              "#9c179e"
             ],
             [
              0.4444444444444444,
              "#bd3786"
             ],
             [
              0.5555555555555556,
              "#d8576b"
             ],
             [
              0.6666666666666666,
              "#ed7953"
             ],
             [
              0.7777777777777778,
              "#fb9f3a"
             ],
             [
              0.8888888888888888,
              "#fdca26"
             ],
             [
              1,
              "#f0f921"
             ]
            ],
            "type": "surface"
           }
          ],
          "table": [
           {
            "cells": {
             "fill": {
              "color": "#EBF0F8"
             },
             "line": {
              "color": "white"
             }
            },
            "header": {
             "fill": {
              "color": "#C8D4E3"
             },
             "line": {
              "color": "white"
             }
            },
            "type": "table"
           }
          ]
         },
         "layout": {
          "annotationdefaults": {
           "arrowcolor": "#2a3f5f",
           "arrowhead": 0,
           "arrowwidth": 1
          },
          "autotypenumbers": "strict",
          "coloraxis": {
           "colorbar": {
            "outlinewidth": 0,
            "ticks": ""
           }
          },
          "colorscale": {
           "diverging": [
            [
             0,
             "#8e0152"
            ],
            [
             0.1,
             "#c51b7d"
            ],
            [
             0.2,
             "#de77ae"
            ],
            [
             0.3,
             "#f1b6da"
            ],
            [
             0.4,
             "#fde0ef"
            ],
            [
             0.5,
             "#f7f7f7"
            ],
            [
             0.6,
             "#e6f5d0"
            ],
            [
             0.7,
             "#b8e186"
            ],
            [
             0.8,
             "#7fbc41"
            ],
            [
             0.9,
             "#4d9221"
            ],
            [
             1,
             "#276419"
            ]
           ],
           "sequential": [
            [
             0,
             "#0d0887"
            ],
            [
             0.1111111111111111,
             "#46039f"
            ],
            [
             0.2222222222222222,
             "#7201a8"
            ],
            [
             0.3333333333333333,
             "#9c179e"
            ],
            [
             0.4444444444444444,
             "#bd3786"
            ],
            [
             0.5555555555555556,
             "#d8576b"
            ],
            [
             0.6666666666666666,
             "#ed7953"
            ],
            [
             0.7777777777777778,
             "#fb9f3a"
            ],
            [
             0.8888888888888888,
             "#fdca26"
            ],
            [
             1,
             "#f0f921"
            ]
           ],
           "sequentialminus": [
            [
             0,
             "#0d0887"
            ],
            [
             0.1111111111111111,
             "#46039f"
            ],
            [
             0.2222222222222222,
             "#7201a8"
            ],
            [
             0.3333333333333333,
             "#9c179e"
            ],
            [
             0.4444444444444444,
             "#bd3786"
            ],
            [
             0.5555555555555556,
             "#d8576b"
            ],
            [
             0.6666666666666666,
             "#ed7953"
            ],
            [
             0.7777777777777778,
             "#fb9f3a"
            ],
            [
             0.8888888888888888,
             "#fdca26"
            ],
            [
             1,
             "#f0f921"
            ]
           ]
          },
          "colorway": [
           "#636efa",
           "#EF553B",
           "#00cc96",
           "#ab63fa",
           "#FFA15A",
           "#19d3f3",
           "#FF6692",
           "#B6E880",
           "#FF97FF",
           "#FECB52"
          ],
          "font": {
           "color": "#2a3f5f"
          },
          "geo": {
           "bgcolor": "white",
           "lakecolor": "white",
           "landcolor": "#E5ECF6",
           "showlakes": true,
           "showland": true,
           "subunitcolor": "white"
          },
          "hoverlabel": {
           "align": "left"
          },
          "hovermode": "closest",
          "mapbox": {
           "style": "light"
          },
          "paper_bgcolor": "white",
          "plot_bgcolor": "#E5ECF6",
          "polar": {
           "angularaxis": {
            "gridcolor": "white",
            "linecolor": "white",
            "ticks": ""
           },
           "bgcolor": "#E5ECF6",
           "radialaxis": {
            "gridcolor": "white",
            "linecolor": "white",
            "ticks": ""
           }
          },
          "scene": {
           "xaxis": {
            "backgroundcolor": "#E5ECF6",
            "gridcolor": "white",
            "gridwidth": 2,
            "linecolor": "white",
            "showbackground": true,
            "ticks": "",
            "zerolinecolor": "white"
           },
           "yaxis": {
            "backgroundcolor": "#E5ECF6",
            "gridcolor": "white",
            "gridwidth": 2,
            "linecolor": "white",
            "showbackground": true,
            "ticks": "",
            "zerolinecolor": "white"
           },
           "zaxis": {
            "backgroundcolor": "#E5ECF6",
            "gridcolor": "white",
            "gridwidth": 2,
            "linecolor": "white",
            "showbackground": true,
            "ticks": "",
            "zerolinecolor": "white"
           }
          },
          "shapedefaults": {
           "line": {
            "color": "#2a3f5f"
           }
          },
          "ternary": {
           "aaxis": {
            "gridcolor": "white",
            "linecolor": "white",
            "ticks": ""
           },
           "baxis": {
            "gridcolor": "white",
            "linecolor": "white",
            "ticks": ""
           },
           "bgcolor": "#E5ECF6",
           "caxis": {
            "gridcolor": "white",
            "linecolor": "white",
            "ticks": ""
           }
          },
          "title": {
           "x": 0.05
          },
          "xaxis": {
           "automargin": true,
           "gridcolor": "white",
           "linecolor": "white",
           "ticks": "",
           "title": {
            "standoff": 15
           },
           "zerolinecolor": "white",
           "zerolinewidth": 2
          },
          "yaxis": {
           "automargin": true,
           "gridcolor": "white",
           "linecolor": "white",
           "ticks": "",
           "title": {
            "standoff": 15
           },
           "zerolinecolor": "white",
           "zerolinewidth": 2
          }
         }
        },
        "title": {
         "text": "Emojis más usados"
        }
       }
      },
      "text/html": [
       "<div>                            <div id=\"7c0a545d-aba6-4369-bcef-eb63d20c7483\" class=\"plotly-graph-div\" style=\"height:525px; width:100%;\"></div>            <script type=\"text/javascript\">                require([\"plotly\"], function(Plotly) {                    window.PLOTLYENV=window.PLOTLYENV || {};                                    if (document.getElementById(\"7c0a545d-aba6-4369-bcef-eb63d20c7483\")) {                    Plotly.newPlot(                        \"7c0a545d-aba6-4369-bcef-eb63d20c7483\",                        [{\"type\": \"bar\", \"x\": [\"\\ud83d\\ude18\", \"\\ud83d\\udc9b\", \"\\ud83d\\udc49\", \"\\ud83d\\udc47\\ud83c\\udffd\", \"\\ud83d\\udc47\", \"\\ud83d\\udc4d\", \"\\ud83d\\ude29\", \"\\u2728\", \"\\ud83d\\udc4a\\ud83c\\udffc\", \"\\ud83d\\uddde\\ufe0f\", \"\\ud83d\\ude42\", \"\\ud83d\\udc47\\ud83c\\udfff\", \"\\u2764\\ufe0f\", \"\\ud83d\\udc99\", \"\\ud83d\\udc49\\ud83c\\udffd\"], \"y\": [3, 3, 2, 2, 1, 1, 1, 1, 1, 1, 1, 1, 1, 1, 1]}],                        {\"template\": {\"data\": {\"bar\": [{\"error_x\": {\"color\": \"#2a3f5f\"}, \"error_y\": {\"color\": \"#2a3f5f\"}, \"marker\": {\"line\": {\"color\": \"#E5ECF6\", \"width\": 0.5}}, \"type\": \"bar\"}], \"barpolar\": [{\"marker\": {\"line\": {\"color\": \"#E5ECF6\", \"width\": 0.5}}, \"type\": \"barpolar\"}], \"carpet\": [{\"aaxis\": {\"endlinecolor\": \"#2a3f5f\", \"gridcolor\": \"white\", \"linecolor\": \"white\", \"minorgridcolor\": \"white\", \"startlinecolor\": \"#2a3f5f\"}, \"baxis\": {\"endlinecolor\": \"#2a3f5f\", \"gridcolor\": \"white\", \"linecolor\": \"white\", \"minorgridcolor\": \"white\", \"startlinecolor\": \"#2a3f5f\"}, \"type\": \"carpet\"}], \"choropleth\": [{\"colorbar\": {\"outlinewidth\": 0, \"ticks\": \"\"}, \"type\": \"choropleth\"}], \"contour\": [{\"colorbar\": {\"outlinewidth\": 0, \"ticks\": \"\"}, \"colorscale\": [[0.0, \"#0d0887\"], [0.1111111111111111, \"#46039f\"], [0.2222222222222222, \"#7201a8\"], [0.3333333333333333, \"#9c179e\"], [0.4444444444444444, \"#bd3786\"], [0.5555555555555556, \"#d8576b\"], [0.6666666666666666, \"#ed7953\"], [0.7777777777777778, \"#fb9f3a\"], [0.8888888888888888, \"#fdca26\"], [1.0, \"#f0f921\"]], \"type\": \"contour\"}], \"contourcarpet\": [{\"colorbar\": {\"outlinewidth\": 0, \"ticks\": \"\"}, \"type\": \"contourcarpet\"}], \"heatmap\": [{\"colorbar\": {\"outlinewidth\": 0, \"ticks\": \"\"}, \"colorscale\": [[0.0, \"#0d0887\"], [0.1111111111111111, \"#46039f\"], [0.2222222222222222, \"#7201a8\"], [0.3333333333333333, \"#9c179e\"], [0.4444444444444444, \"#bd3786\"], [0.5555555555555556, \"#d8576b\"], [0.6666666666666666, \"#ed7953\"], [0.7777777777777778, \"#fb9f3a\"], [0.8888888888888888, \"#fdca26\"], [1.0, \"#f0f921\"]], \"type\": \"heatmap\"}], \"heatmapgl\": [{\"colorbar\": {\"outlinewidth\": 0, \"ticks\": \"\"}, \"colorscale\": [[0.0, \"#0d0887\"], [0.1111111111111111, \"#46039f\"], [0.2222222222222222, \"#7201a8\"], [0.3333333333333333, \"#9c179e\"], [0.4444444444444444, \"#bd3786\"], [0.5555555555555556, \"#d8576b\"], [0.6666666666666666, \"#ed7953\"], [0.7777777777777778, \"#fb9f3a\"], [0.8888888888888888, \"#fdca26\"], [1.0, \"#f0f921\"]], \"type\": \"heatmapgl\"}], \"histogram\": [{\"marker\": {\"colorbar\": {\"outlinewidth\": 0, \"ticks\": \"\"}}, \"type\": \"histogram\"}], \"histogram2d\": [{\"colorbar\": {\"outlinewidth\": 0, \"ticks\": \"\"}, \"colorscale\": [[0.0, \"#0d0887\"], [0.1111111111111111, \"#46039f\"], [0.2222222222222222, \"#7201a8\"], [0.3333333333333333, \"#9c179e\"], [0.4444444444444444, \"#bd3786\"], [0.5555555555555556, \"#d8576b\"], [0.6666666666666666, \"#ed7953\"], [0.7777777777777778, \"#fb9f3a\"], [0.8888888888888888, \"#fdca26\"], [1.0, \"#f0f921\"]], \"type\": \"histogram2d\"}], \"histogram2dcontour\": [{\"colorbar\": {\"outlinewidth\": 0, \"ticks\": \"\"}, \"colorscale\": [[0.0, \"#0d0887\"], [0.1111111111111111, \"#46039f\"], [0.2222222222222222, \"#7201a8\"], [0.3333333333333333, \"#9c179e\"], [0.4444444444444444, \"#bd3786\"], [0.5555555555555556, \"#d8576b\"], [0.6666666666666666, \"#ed7953\"], [0.7777777777777778, \"#fb9f3a\"], [0.8888888888888888, \"#fdca26\"], [1.0, \"#f0f921\"]], \"type\": \"histogram2dcontour\"}], \"mesh3d\": [{\"colorbar\": {\"outlinewidth\": 0, \"ticks\": \"\"}, \"type\": \"mesh3d\"}], \"parcoords\": [{\"line\": {\"colorbar\": {\"outlinewidth\": 0, \"ticks\": \"\"}}, \"type\": \"parcoords\"}], \"pie\": [{\"automargin\": true, \"type\": \"pie\"}], \"scatter\": [{\"marker\": {\"colorbar\": {\"outlinewidth\": 0, \"ticks\": \"\"}}, \"type\": \"scatter\"}], \"scatter3d\": [{\"line\": {\"colorbar\": {\"outlinewidth\": 0, \"ticks\": \"\"}}, \"marker\": {\"colorbar\": {\"outlinewidth\": 0, \"ticks\": \"\"}}, \"type\": \"scatter3d\"}], \"scattercarpet\": [{\"marker\": {\"colorbar\": {\"outlinewidth\": 0, \"ticks\": \"\"}}, \"type\": \"scattercarpet\"}], \"scattergeo\": [{\"marker\": {\"colorbar\": {\"outlinewidth\": 0, \"ticks\": \"\"}}, \"type\": \"scattergeo\"}], \"scattergl\": [{\"marker\": {\"colorbar\": {\"outlinewidth\": 0, \"ticks\": \"\"}}, \"type\": \"scattergl\"}], \"scattermapbox\": [{\"marker\": {\"colorbar\": {\"outlinewidth\": 0, \"ticks\": \"\"}}, \"type\": \"scattermapbox\"}], \"scatterpolar\": [{\"marker\": {\"colorbar\": {\"outlinewidth\": 0, \"ticks\": \"\"}}, \"type\": \"scatterpolar\"}], \"scatterpolargl\": [{\"marker\": {\"colorbar\": {\"outlinewidth\": 0, \"ticks\": \"\"}}, \"type\": \"scatterpolargl\"}], \"scatterternary\": [{\"marker\": {\"colorbar\": {\"outlinewidth\": 0, \"ticks\": \"\"}}, \"type\": \"scatterternary\"}], \"surface\": [{\"colorbar\": {\"outlinewidth\": 0, \"ticks\": \"\"}, \"colorscale\": [[0.0, \"#0d0887\"], [0.1111111111111111, \"#46039f\"], [0.2222222222222222, \"#7201a8\"], [0.3333333333333333, \"#9c179e\"], [0.4444444444444444, \"#bd3786\"], [0.5555555555555556, \"#d8576b\"], [0.6666666666666666, \"#ed7953\"], [0.7777777777777778, \"#fb9f3a\"], [0.8888888888888888, \"#fdca26\"], [1.0, \"#f0f921\"]], \"type\": \"surface\"}], \"table\": [{\"cells\": {\"fill\": {\"color\": \"#EBF0F8\"}, \"line\": {\"color\": \"white\"}}, \"header\": {\"fill\": {\"color\": \"#C8D4E3\"}, \"line\": {\"color\": \"white\"}}, \"type\": \"table\"}]}, \"layout\": {\"annotationdefaults\": {\"arrowcolor\": \"#2a3f5f\", \"arrowhead\": 0, \"arrowwidth\": 1}, \"autotypenumbers\": \"strict\", \"coloraxis\": {\"colorbar\": {\"outlinewidth\": 0, \"ticks\": \"\"}}, \"colorscale\": {\"diverging\": [[0, \"#8e0152\"], [0.1, \"#c51b7d\"], [0.2, \"#de77ae\"], [0.3, \"#f1b6da\"], [0.4, \"#fde0ef\"], [0.5, \"#f7f7f7\"], [0.6, \"#e6f5d0\"], [0.7, \"#b8e186\"], [0.8, \"#7fbc41\"], [0.9, \"#4d9221\"], [1, \"#276419\"]], \"sequential\": [[0.0, \"#0d0887\"], [0.1111111111111111, \"#46039f\"], [0.2222222222222222, \"#7201a8\"], [0.3333333333333333, \"#9c179e\"], [0.4444444444444444, \"#bd3786\"], [0.5555555555555556, \"#d8576b\"], [0.6666666666666666, \"#ed7953\"], [0.7777777777777778, \"#fb9f3a\"], [0.8888888888888888, \"#fdca26\"], [1.0, \"#f0f921\"]], \"sequentialminus\": [[0.0, \"#0d0887\"], [0.1111111111111111, \"#46039f\"], [0.2222222222222222, \"#7201a8\"], [0.3333333333333333, \"#9c179e\"], [0.4444444444444444, \"#bd3786\"], [0.5555555555555556, \"#d8576b\"], [0.6666666666666666, \"#ed7953\"], [0.7777777777777778, \"#fb9f3a\"], [0.8888888888888888, \"#fdca26\"], [1.0, \"#f0f921\"]]}, \"colorway\": [\"#636efa\", \"#EF553B\", \"#00cc96\", \"#ab63fa\", \"#FFA15A\", \"#19d3f3\", \"#FF6692\", \"#B6E880\", \"#FF97FF\", \"#FECB52\"], \"font\": {\"color\": \"#2a3f5f\"}, \"geo\": {\"bgcolor\": \"white\", \"lakecolor\": \"white\", \"landcolor\": \"#E5ECF6\", \"showlakes\": true, \"showland\": true, \"subunitcolor\": \"white\"}, \"hoverlabel\": {\"align\": \"left\"}, \"hovermode\": \"closest\", \"mapbox\": {\"style\": \"light\"}, \"paper_bgcolor\": \"white\", \"plot_bgcolor\": \"#E5ECF6\", \"polar\": {\"angularaxis\": {\"gridcolor\": \"white\", \"linecolor\": \"white\", \"ticks\": \"\"}, \"bgcolor\": \"#E5ECF6\", \"radialaxis\": {\"gridcolor\": \"white\", \"linecolor\": \"white\", \"ticks\": \"\"}}, \"scene\": {\"xaxis\": {\"backgroundcolor\": \"#E5ECF6\", \"gridcolor\": \"white\", \"gridwidth\": 2, \"linecolor\": \"white\", \"showbackground\": true, \"ticks\": \"\", \"zerolinecolor\": \"white\"}, \"yaxis\": {\"backgroundcolor\": \"#E5ECF6\", \"gridcolor\": \"white\", \"gridwidth\": 2, \"linecolor\": \"white\", \"showbackground\": true, \"ticks\": \"\", \"zerolinecolor\": \"white\"}, \"zaxis\": {\"backgroundcolor\": \"#E5ECF6\", \"gridcolor\": \"white\", \"gridwidth\": 2, \"linecolor\": \"white\", \"showbackground\": true, \"ticks\": \"\", \"zerolinecolor\": \"white\"}}, \"shapedefaults\": {\"line\": {\"color\": \"#2a3f5f\"}}, \"ternary\": {\"aaxis\": {\"gridcolor\": \"white\", \"linecolor\": \"white\", \"ticks\": \"\"}, \"baxis\": {\"gridcolor\": \"white\", \"linecolor\": \"white\", \"ticks\": \"\"}, \"bgcolor\": \"#E5ECF6\", \"caxis\": {\"gridcolor\": \"white\", \"linecolor\": \"white\", \"ticks\": \"\"}}, \"title\": {\"x\": 0.05}, \"xaxis\": {\"automargin\": true, \"gridcolor\": \"white\", \"linecolor\": \"white\", \"ticks\": \"\", \"title\": {\"standoff\": 15}, \"zerolinecolor\": \"white\", \"zerolinewidth\": 2}, \"yaxis\": {\"automargin\": true, \"gridcolor\": \"white\", \"linecolor\": \"white\", \"ticks\": \"\", \"title\": {\"standoff\": 15}, \"zerolinecolor\": \"white\", \"zerolinewidth\": 2}}}, \"title\": {\"text\": \"Emojis m\\u00e1s usados\"}},                        {\"responsive\": true}                    ).then(function(){\n",
       "                            \n",
       "var gd = document.getElementById('7c0a545d-aba6-4369-bcef-eb63d20c7483');\n",
       "var x = new MutationObserver(function (mutations, observer) {{\n",
       "        var display = window.getComputedStyle(gd).display;\n",
       "        if (!display || display === 'none') {{\n",
       "            console.log([gd, 'removed!']);\n",
       "            Plotly.purge(gd);\n",
       "            observer.disconnect();\n",
       "        }}\n",
       "}});\n",
       "\n",
       "// Listen for the removal of the full notebook cells\n",
       "var notebookContainer = gd.closest('#notebook-container');\n",
       "if (notebookContainer) {{\n",
       "    x.observe(notebookContainer, {childList: true});\n",
       "}}\n",
       "\n",
       "// Listen for the clearing of the current output cell\n",
       "var outputEl = gd.closest('.output');\n",
       "if (outputEl) {{\n",
       "    x.observe(outputEl, {childList: true});\n",
       "}}\n",
       "\n",
       "                        })                };                });            </script>        </div>"
      ]
     },
     "metadata": {},
     "output_type": "display_data"
    }
   ],
   "source": [
    "trace = go.Bar(x=temp_emojis.emoji.values[:15],\n",
    "               y=temp_emojis.cnt.values[:15])\n",
    "\n",
    "layout = go.Layout(title='Emojis más usados')\n",
    "\n",
    "fig = go.Figure(data=[trace], layout=layout)\n",
    "iplot(fig)"
   ]
  }
 ],
 "metadata": {
  "kernelspec": {
   "display_name": "Python 3",
   "language": "python",
   "name": "python3"
  },
  "language_info": {
   "codemirror_mode": {
    "name": "ipython",
    "version": 3
   },
   "file_extension": ".py",
   "mimetype": "text/x-python",
   "name": "python",
   "nbconvert_exporter": "python",
   "pygments_lexer": "ipython3",
   "version": "3.8.3"
  }
 },
 "nbformat": 4,
 "nbformat_minor": 2
}
